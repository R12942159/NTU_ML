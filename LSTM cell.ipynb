{
  "nbformat": 4,
  "nbformat_minor": 0,
  "metadata": {
    "colab": {
      "provenance": [],
      "authorship_tag": "ABX9TyPs2GICfdCbW+K64f10qKYX",
      "include_colab_link": true
    },
    "kernelspec": {
      "name": "python3",
      "display_name": "Python 3"
    },
    "language_info": {
      "name": "python"
    }
  },
  "cells": [
    {
      "cell_type": "markdown",
      "metadata": {
        "id": "view-in-github",
        "colab_type": "text"
      },
      "source": [
        "<a href=\"https://colab.research.google.com/github/R12942159/NTU_ML/blob/Hw3/LSTM%20cell.ipynb\" target=\"_parent\"><img src=\"https://colab.research.google.com/assets/colab-badge.svg\" alt=\"Open In Colab\"/></a>"
      ]
    },
    {
      "cell_type": "code",
      "execution_count": null,
      "metadata": {
        "id": "Y4axWyDMAPTw"
      },
      "outputs": [],
      "source": [
        "import os\n",
        "import numpy as np\n",
        "import matplotlib.pyplot as plt\n",
        "from numpy import random\n",
        "from tqdm.notebook import tqdm\n",
        "from random import choices\n",
        "import math\n",
        "\n",
        "def f(x):\n",
        "        x = 1 / (1 + math.exp(-(x)))\n",
        "        return x\n",
        "\n",
        "def g(x):\n",
        "        x = x\n",
        "        return x\n",
        "\n",
        "def h(x):\n",
        "        x = x\n",
        "        return x\n",
        "\n",
        "x_in = [0,1,0,0]\n",
        "c =  2.9999 #f(145) * g(3)+ (f(45) * g(-1)+ (f(-5) * g(1)+ 0 * f(120)) * f(70) ) * f(-30)\n",
        "\n",
        "z = np.dot([0,0,1,0], x_in) + 0\n",
        "z_i = np.dot([50,50,0,0], x_in) - 5\n",
        "z_f = np.dot([-50,-50,0,0], x_in) + 120\n",
        "z_0 = np.dot([0,0,200,0], x_in) - 30\n",
        "\n",
        "c_t = f(z_i) * g(z)+ c * f(z_f)\n",
        "y = f(z_0)*h(c_t)\n",
        "\n",
        "formatted_values = [format(val, '.15f') for val in [z, z_i, z_f, z_0, c_t, y]]\n",
        "print(\"\\n\".join(formatted_values))"
      ]
    }
  ]
}