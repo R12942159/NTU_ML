{
  "cells": [
    {
      "cell_type": "markdown",
      "metadata": {
        "id": "view-in-github",
        "colab_type": "text"
      },
      "source": [
        "<a href=\"https://colab.research.google.com/github/R12942159/NTU_ML/blob/Hw5/SVM_sample.ipynb\" target=\"_parent\"><img src=\"https://colab.research.google.com/assets/colab-badge.svg\" alt=\"Open In Colab\"/></a>"
      ]
    },
    {
      "cell_type": "code",
      "execution_count": null,
      "metadata": {
        "id": "q00JF9knfdhg"
      },
      "outputs": [],
      "source": [
        "!gdown 1sCTQXp9kTcm8_jckqC-v_gWxIsFCcUbS\n",
        "!gdown 1vK24A09o5Nev5qj1qNhndFe6beTWSDRU\n",
        "!gdown 1THvOuf_EOn6c_6TLy0Bqs23BP2NraBR2"
      ]
    },
    {
      "cell_type": "code",
      "execution_count": 2,
      "metadata": {
        "id": "-i7a0zITdd0h"
      },
      "outputs": [],
      "source": [
        "import csv\n",
        "import numpy as np\n",
        "import pandas as pd\n",
        "from sklearn.svm import SVC\n",
        "from sklearn.decomposition import PCA\n",
        "from sklearn.ensemble import BaggingClassifier\n",
        "from sklearn.preprocessing import StandardScaler"
      ]
    },
    {
      "cell_type": "code",
      "execution_count": 3,
      "metadata": {
        "id": "14_RdKtHfu1j"
      },
      "outputs": [],
      "source": [
        "def normalize(X, mu_x=[38.58, 189778.37, 40.44, 1077.65, 87.30], std_x=[13.64, 105548.36, 12.35, 7385.18, 402.95]):\n",
        "\n",
        "  #ToDo Begin\n",
        "  scaler = StandardScaler(with_mean=False, with_std=False, copy=True)\n",
        "  scaler.mean_ = mu_x\n",
        "  scaler.scale_ = std_x\n",
        "  X = scaler.transform(X)\n",
        "\n",
        "\n",
        "  #ToDo End\n",
        "  return X, mu_x, std_x\n",
        "\n",
        "def load_train():\n",
        "  X = pd.read_csv(\"X_train\")\n",
        "  X_c = X[['age', 'fnlwgt', 'hours_per_week', 'capital_gain', 'capital_loss']].values\n",
        "  X_d = X.drop(['age', 'fnlwgt', 'hours_per_week', 'capital_gain', 'capital_loss'], 1).iloc[:, :-1].values\n",
        "  Y = pd.read_csv(\"Y_train\", header = None).values.reshape(-1)\n",
        "  X_c, mu, std = normalize(X_c)\n",
        "  X = np.concatenate((X_d, X_c), 1)\n",
        "  return X, Y, mu, std\n",
        "\n",
        "def load_test(mu, std):\n",
        "  X = pd.read_csv(\"X_test\")\n",
        "  X_c = X[['age', 'fnlwgt', 'hours_per_week', 'capital_gain', 'capital_loss']].values\n",
        "  X_d = X.drop(['age', 'fnlwgt', 'hours_per_week', 'capital_gain', 'capital_loss'], 1).iloc[:, :-1].values\n",
        "  X_c, _, _ = normalize(X_c, mu, std)\n",
        "  X = np.concatenate((X_d, X_c), 1)\n",
        "  return X"
      ]
    },
    {
      "cell_type": "code",
      "execution_count": 4,
      "metadata": {
        "colab": {
          "base_uri": "https://localhost:8080/"
        },
        "id": "EvWtcFbzgCG4",
        "outputId": "6fbc101d-8a40-42ed-d5ad-003e928d8669"
      },
      "outputs": [
        {
          "output_type": "stream",
          "name": "stderr",
          "text": [
            "<ipython-input-3-4c5a9327bba2>:16: FutureWarning: In a future version of pandas all arguments of DataFrame.drop except for the argument 'labels' will be keyword-only.\n",
            "  X_d = X.drop(['age', 'fnlwgt', 'hours_per_week', 'capital_gain', 'capital_loss'], 1).iloc[:, :-1].values\n",
            "<ipython-input-3-4c5a9327bba2>:25: FutureWarning: In a future version of pandas all arguments of DataFrame.drop except for the argument 'labels' will be keyword-only.\n",
            "  X_d = X.drop(['age', 'fnlwgt', 'hours_per_week', 'capital_gain', 'capital_loss'], 1).iloc[:, :-1].values\n"
          ]
        }
      ],
      "source": [
        "train_X, train_Y, mu, std = load_train()\n",
        "test_X = load_test(mu, std)"
      ]
    },
    {
      "cell_type": "code",
      "execution_count": null,
      "metadata": {
        "id": "RNTx_SOIk53U"
      },
      "outputs": [],
      "source": [
        "#ToDo Begin\n",
        "pca = PCA(n_components=2)#think what number should set\n",
        "train_X_pca = pca.fit_transform(train_X)\n",
        "clf = SVC(kernel='linear', C=1.0, random_state=0)\n",
        "\n",
        "#ToDo End\n",
        "clf.fit(train_X_pca, train_Y)"
      ]
    },
    {
      "cell_type": "code",
      "execution_count": null,
      "metadata": {
        "id": "LS6LHG3bntKv"
      },
      "outputs": [],
      "source": [
        "test_X = pca.transform(test_X)\n",
        "results = clf.predict(test_X)\n",
        "with open('predict.csv', 'w', newline='') as f:\n",
        "    writer = csv.writer(f)\n",
        "    writer.writerow(['id','label'])\n",
        "    for i, x in enumerate(results):\n",
        "      writer.writerow([i + 1, int(x)])"
      ]
    }
  ],
  "metadata": {
    "colab": {
      "provenance": [],
      "include_colab_link": true
    },
    "kernelspec": {
      "display_name": "Python 3",
      "name": "python3"
    },
    "language_info": {
      "name": "python"
    }
  },
  "nbformat": 4,
  "nbformat_minor": 0
}