{
  "cells": [
    {
      "cell_type": "markdown",
      "metadata": {
        "id": "view-in-github",
        "colab_type": "text"
      },
      "source": [
        "<a href=\"https://colab.research.google.com/github/R12942159/NTU_ML/blob/Hw5/SVM_sample.ipynb\" target=\"_parent\"><img src=\"https://colab.research.google.com/assets/colab-badge.svg\" alt=\"Open In Colab\"/></a>"
      ]
    },
    {
      "cell_type": "code",
      "execution_count": 1,
      "metadata": {
        "colab": {
          "base_uri": "https://localhost:8080/"
        },
        "id": "q00JF9knfdhg",
        "outputId": "cea04b01-00e7-4956-8f02-27214d0efa31"
      },
      "outputs": [
        {
          "output_type": "stream",
          "name": "stdout",
          "text": [
            "Downloading...\n",
            "From: https://drive.google.com/uc?id=1sCTQXp9kTcm8_jckqC-v_gWxIsFCcUbS\n",
            "To: /content/X_train\n",
            "100% 7.14M/7.14M [00:00<00:00, 29.8MB/s]\n",
            "Downloading...\n",
            "From: https://drive.google.com/uc?id=1vK24A09o5Nev5qj1qNhndFe6beTWSDRU\n",
            "To: /content/Y_train\n",
            "100% 65.1k/65.1k [00:00<00:00, 4.51MB/s]\n",
            "Downloading...\n",
            "From: https://drive.google.com/uc?id=1THvOuf_EOn6c_6TLy0Bqs23BP2NraBR2\n",
            "To: /content/X_test\n",
            "100% 3.57M/3.57M [00:00<00:00, 20.8MB/s]\n"
          ]
        }
      ],
      "source": [
        "!gdown 1sCTQXp9kTcm8_jckqC-v_gWxIsFCcUbS\n",
        "!gdown 1vK24A09o5Nev5qj1qNhndFe6beTWSDRU\n",
        "!gdown 1THvOuf_EOn6c_6TLy0Bqs23BP2NraBR2"
      ]
    },
    {
      "cell_type": "code",
      "execution_count": 2,
      "metadata": {
        "id": "-i7a0zITdd0h"
      },
      "outputs": [],
      "source": [
        "import csv\n",
        "import numpy as np\n",
        "import pandas as pd\n",
        "from sklearn.svm import SVC\n",
        "from sklearn.decomposition import PCA\n",
        "from sklearn.ensemble import BaggingClassifier\n",
        "from sklearn.preprocessing import StandardScaler"
      ]
    },
    {
      "cell_type": "code",
      "source": [
        "X = pd.read_csv(\"X_train\")"
      ],
      "metadata": {
        "id": "5q-4I2aX6u-T"
      },
      "execution_count": 3,
      "outputs": []
    },
    {
      "cell_type": "code",
      "source": [
        "X = X[['age', 'fnlwgt', 'hours_per_week', 'capital_gain', 'capital_loss']].values"
      ],
      "metadata": {
        "id": "Y05T2FJu6vqi"
      },
      "execution_count": 4,
      "outputs": []
    },
    {
      "cell_type": "code",
      "source": [
        "scaler = StandardScaler()"
      ],
      "metadata": {
        "id": "pKof4UzE9I1l"
      },
      "execution_count": 5,
      "outputs": []
    },
    {
      "cell_type": "code",
      "source": [
        "scaler_data = scaler.fit_transform(X)"
      ],
      "metadata": {
        "id": "ymPLAG767Yso"
      },
      "execution_count": 6,
      "outputs": []
    },
    {
      "cell_type": "code",
      "source": [
        "mean_values = scaler.mean_\n",
        "std_dev_values = scaler.scale_"
      ],
      "metadata": {
        "id": "GACYTa149UTP"
      },
      "execution_count": 7,
      "outputs": []
    },
    {
      "cell_type": "code",
      "source": [
        "mean_values, std_dev_values"
      ],
      "metadata": {
        "id": "JMFvsArUgKB8",
        "outputId": "f5291e2d-e616-4e98-84dc-1e8510bcf069",
        "colab": {
          "base_uri": "https://localhost:8080/"
        }
      },
      "execution_count": 11,
      "outputs": [
        {
          "output_type": "execute_result",
          "data": {
            "text/plain": [
              "(array([3.85816468e+01, 1.89778367e+05, 4.04374559e+01, 1.07764884e+03,\n",
              "        8.73038297e+01]),\n",
              " array([1.36402231e+01, 1.05548357e+05, 1.23472391e+01, 7.38517868e+03,\n",
              "        4.02954031e+02]))"
            ]
          },
          "metadata": {},
          "execution_count": 11
        }
      ]
    },
    {
      "cell_type": "code",
      "execution_count": 9,
      "metadata": {
        "id": "14_RdKtHfu1j"
      },
      "outputs": [],
      "source": [
        "def normalize(X, mu_x=mean_values, std_x=std_dev_values):\n",
        "\n",
        "  #ToDo Begin\n",
        "  scaler = StandardScaler(with_mean=False, with_std=False, copy=True)\n",
        "  scaler.mean_ = mu_x\n",
        "  scaler.scale_ = std_x\n",
        "  X = scaler.transform(X)\n",
        "\n",
        "\n",
        "  #ToDo End\n",
        "  return X, mu_x, std_x\n",
        "\n",
        "def load_train():\n",
        "  X = pd.read_csv(\"X_train\")\n",
        "  X_c = X[['age', 'fnlwgt', 'hours_per_week', 'capital_gain', 'capital_loss']].values\n",
        "  X_d = X.drop(['age', 'fnlwgt', 'hours_per_week', 'capital_gain', 'capital_loss'], 1).iloc[:, :-1].values\n",
        "  Y = pd.read_csv(\"Y_train\", header = None).values.reshape(-1)\n",
        "  X_c, mu, std = normalize(X_c)\n",
        "  X = np.concatenate((X_d, X_c), 1)\n",
        "  return X, Y, mu, std\n",
        "\n",
        "def load_test(mu, std):\n",
        "  X = pd.read_csv(\"X_test\")\n",
        "  X_c = X[['age', 'fnlwgt', 'hours_per_week', 'capital_gain', 'capital_loss']].values\n",
        "  X_d = X.drop(['age', 'fnlwgt', 'hours_per_week', 'capital_gain', 'capital_loss'], 1).iloc[:, :-1].values\n",
        "  X_c, _, _ = normalize(X_c, mu, std)\n",
        "  X = np.concatenate((X_d, X_c), 1)\n",
        "  return X"
      ]
    },
    {
      "cell_type": "code",
      "execution_count": 10,
      "metadata": {
        "colab": {
          "base_uri": "https://localhost:8080/"
        },
        "id": "EvWtcFbzgCG4",
        "outputId": "f376a774-0612-407b-b7e8-89774a15508f"
      },
      "outputs": [
        {
          "output_type": "stream",
          "name": "stderr",
          "text": [
            "<ipython-input-9-7cf158bf253b>:16: FutureWarning: In a future version of pandas all arguments of DataFrame.drop except for the argument 'labels' will be keyword-only.\n",
            "  X_d = X.drop(['age', 'fnlwgt', 'hours_per_week', 'capital_gain', 'capital_loss'], 1).iloc[:, :-1].values\n",
            "<ipython-input-9-7cf158bf253b>:25: FutureWarning: In a future version of pandas all arguments of DataFrame.drop except for the argument 'labels' will be keyword-only.\n",
            "  X_d = X.drop(['age', 'fnlwgt', 'hours_per_week', 'capital_gain', 'capital_loss'], 1).iloc[:, :-1].values\n"
          ]
        }
      ],
      "source": [
        "train_X, train_Y, mu, std = load_train()\n",
        "test_X = load_test(mu, std)"
      ]
    },
    {
      "cell_type": "code",
      "execution_count": null,
      "metadata": {
        "id": "RNTx_SOIk53U"
      },
      "outputs": [],
      "source": [
        "#ToDo Begin\n",
        "pca = PCA(n_components=2)#think what number should set\n",
        "train_X_pca = pca.fit_transform(train_X)\n",
        "\n",
        "#ToDo End\n",
        "clf = SVC(kernel='linear', random_state=0)\n",
        "clf.fit(train_X_pca, train_Y)"
      ]
    },
    {
      "cell_type": "code",
      "execution_count": null,
      "metadata": {
        "id": "LS6LHG3bntKv"
      },
      "outputs": [],
      "source": [
        "test_X = pca.transform(test_X)\n",
        "results = clf.predict(test_X)\n",
        "with open('predict.csv', 'w', newline='') as f:\n",
        "    writer = csv.writer(f)\n",
        "    writer.writerow(['id','label'])\n",
        "    for i, x in enumerate(results):\n",
        "      writer.writerow([i + 1, int(x)])"
      ]
    }
  ],
  "metadata": {
    "colab": {
      "provenance": [],
      "include_colab_link": true
    },
    "kernelspec": {
      "display_name": "Python 3",
      "name": "python3"
    },
    "language_info": {
      "name": "python"
    }
  },
  "nbformat": 4,
  "nbformat_minor": 0
}