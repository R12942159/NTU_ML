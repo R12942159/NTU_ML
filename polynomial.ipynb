{
  "nbformat": 4,
  "nbformat_minor": 0,
  "metadata": {
    "colab": {
      "provenance": [],
      "include_colab_link": true
    },
    "kernelspec": {
      "name": "python3",
      "display_name": "Python 3"
    },
    "accelerator": "TPU"
  },
  "cells": [
    {
      "cell_type": "markdown",
      "metadata": {
        "id": "view-in-github",
        "colab_type": "text"
      },
      "source": [
        "<a href=\"https://colab.research.google.com/github/R12942159/NTU_ML/blob/Hw1/polynomial.ipynb\" target=\"_parent\"><img src=\"https://colab.research.google.com/assets/colab-badge.svg\" alt=\"Open In Colab\"/></a>"
      ]
    },
    {
      "cell_type": "markdown",
      "metadata": {
        "id": "mz0_QVkxCrX3"
      },
      "source": [
        "# **2023 ML FALL HW1: PM2.5 Prediction (Regression)**"
      ]
    },
    {
      "cell_type": "markdown",
      "metadata": {
        "id": "ZeZnPAiwDRWG"
      },
      "source": [
        "Author: MLTAs\n",
        "\n",
        "Methods:\n",
        "* Training with all data\n",
        "* Training config: mini-batch=512, optimizer=Adam, learning rate=0.1 (TODO: Change the config!)\n",
        "\n"
      ]
    },
    {
      "cell_type": "markdown",
      "source": [
        "#### v1: 2nd polynomial\n",
        "#### v2: 0<y<=28.5(remove outliner)\n",
        "#### v3: Change epoch to 1000 and adding more importance variable by RandomForestClassifier\n",
        "#### v4: Change lr to 1e*4\n",
        "#### v5: lower batch size to 8 only"
      ],
      "metadata": {
        "id": "voUK851xx39u"
      }
    },
    {
      "cell_type": "markdown",
      "metadata": {
        "id": "wS_4-77xHk44"
      },
      "source": [
        "# **Import Some Packages**"
      ]
    },
    {
      "cell_type": "code",
      "metadata": {
        "id": "k-onQd4JNA5H"
      },
      "source": [
        "import numpy as np\n",
        "import csv\n",
        "import math\n",
        "import pandas as pd"
      ],
      "execution_count": null,
      "outputs": []
    },
    {
      "cell_type": "code",
      "source": [
        "import os\n",
        "os.getcwd()"
      ],
      "metadata": {
        "colab": {
          "base_uri": "https://localhost:8080/",
          "height": 35
        },
        "id": "iUIroiX8jBlb",
        "outputId": "a042ab14-fb48-4e73-9e69-0c3044ac5a0c"
      },
      "execution_count": null,
      "outputs": [
        {
          "output_type": "execute_result",
          "data": {
            "text/plain": [
              "'/content'"
            ],
            "application/vnd.google.colaboratory.intrinsic+json": {
              "type": "string"
            }
          },
          "metadata": {},
          "execution_count": 49
        }
      ]
    },
    {
      "cell_type": "markdown",
      "source": [
        "# **Fix random seed**\n",
        "\n",
        "\n",
        "This is for the reproduction of your result. **DO NOT modify this secton!**\n"
      ],
      "metadata": {
        "id": "aqMEWsRekx0L"
      }
    },
    {
      "cell_type": "code",
      "source": [
        "## Edit: use np.random.seed(seed) (2022.10.12)\n",
        "seed = 9487\n",
        "np.random.seed(seed)"
      ],
      "metadata": {
        "id": "UxDA6fJb_Uem"
      },
      "execution_count": null,
      "outputs": []
    },
    {
      "cell_type": "markdown",
      "metadata": {
        "id": "0OVRMuTAc1_E"
      },
      "source": [
        "# **Download training data**\n"
      ]
    },
    {
      "cell_type": "code",
      "source": [
        "!gdown --id \"1Hfzrcm69QwdFvdeF0uASoQlcVxKw_hHy\" --output \"train.csv\"\n",
        "\n",
        "## Edit (2022.10.14) test.csv: 7th(WS_HR) and last column(pm2.5) is correctly switched.\n",
        "!gdown --id '155N6fzI7vAFzHAGdy6jkaWIksWH6Y1G2' --output \"test.csv\"\n",
        "\n",
        "# Incase the links above die, you can use the following instead.\n",
        "#!gdown --id '11abE854Eyv4BA7qt5k8r_80sJ3KuOQUN' --output \"train.csv\"\n",
        "#!gdown --id '1uod-Z4ztluXnuHtgUbm39nMudUKqXHMl' --output \"test.csv\"\n",
        "\n",
        "# If the data is still missing, you can manually download it from kaggle, and upload the files under /content"
      ],
      "metadata": {
        "colab": {
          "base_uri": "https://localhost:8080/"
        },
        "id": "s0Zo8JUp5kJ4",
        "outputId": "0a716f81-9e3e-4b6a-e1a9-d35c222c3123"
      },
      "execution_count": null,
      "outputs": [
        {
          "output_type": "stream",
          "name": "stdout",
          "text": [
            "/usr/local/lib/python3.10/dist-packages/gdown/cli.py:121: FutureWarning: Option `--id` was deprecated in version 4.3.1 and will be removed in 5.0. You don't need to pass it anymore to use a file ID.\n",
            "  warnings.warn(\n",
            "Downloading...\n",
            "From: https://drive.google.com/uc?id=1Hfzrcm69QwdFvdeF0uASoQlcVxKw_hHy\n",
            "To: /content/train.csv\n",
            "100% 324k/324k [00:00<00:00, 81.4MB/s]\n",
            "/usr/local/lib/python3.10/dist-packages/gdown/cli.py:121: FutureWarning: Option `--id` was deprecated in version 4.3.1 and will be removed in 5.0. You don't need to pass it anymore to use a file ID.\n",
            "  warnings.warn(\n",
            "Downloading...\n",
            "From: https://drive.google.com/uc?id=155N6fzI7vAFzHAGdy6jkaWIksWH6Y1G2\n",
            "To: /content/test.csv\n",
            "100% 49.0k/49.0k [00:00<00:00, 63.0MB/s]\n"
          ]
        }
      ]
    },
    {
      "cell_type": "code",
      "metadata": {
        "id": "yHpuZmQwXpz8"
      },
      "source": [
        "def valid(x, y):\n",
        "  # TODO: Try to filter out extreme values.\n",
        "  #  ex: If PM2.5 > 100, then we don't use the data to train (return False), otherwise return True,\n",
        "\n",
        "  return True\n",
        "\n",
        "\n",
        "# Create your dataset\n",
        "def parse2train(data, feats):\n",
        "\n",
        "  x = []\n",
        "  y = []\n",
        "\n",
        "  # Use data #0~#7 to predict #8 => Total data length should be decresased by 8.\n",
        "  total_length = data.shape[1] - 8\n",
        "\n",
        "  for i in range(total_length):\n",
        "    x_tmp = data[feats, i:i+8] # Use data #0~#7 to predict #8, data #1~#8 to predict #9, etc.\n",
        "    y_tmp = data[-1, i+8] # last column of (i+8)th row: PM2.5\n",
        "\n",
        "    # Filter out extreme values to train.\n",
        "    if valid(x_tmp, y_tmp):\n",
        "      x.append(x_tmp.reshape(-1,))\n",
        "      y.append(y_tmp)\n",
        "\n",
        "  # x.shape: (n, 15, 8)\n",
        "  # y.shape: (n, 1)\n",
        "  x = np.array(x)\n",
        "  y = np.array(y)\n",
        "\n",
        "  return x,y\n"
      ],
      "execution_count": null,
      "outputs": []
    },
    {
      "cell_type": "markdown",
      "metadata": {
        "id": "WyEpvVVQdZ0c"
      },
      "source": [
        "#**Adam**\n",
        "* This is our gradient descent algorithm. Adam was implemented.\n",
        "* You can implement another algorithm such as SGD, which may (or may not) boost the performance.\n",
        "* However, **modules like sklearn and pytorch are not allowed**.\n",
        "* Ref: https://arxiv.org/pdf/1412.6980.pdf\n",
        "\n",
        "![](https://i.imgur.com/jRaebdf.png)\n",
        "\n"
      ]
    },
    {
      "cell_type": "code",
      "metadata": {
        "id": "XL_RVBoLuXvj"
      },
      "source": [
        "# TODO: Implement 2-nd polynomial regression version for the report.\n",
        "def minibatch(x, y, config):\n",
        "\n",
        "    # Randomize the data in minibatch\n",
        "    index = np.arange(x.shape[0])\n",
        "    np.random.shuffle(index)\n",
        "    x = x[index]\n",
        "    y = y[index]\n",
        "\n",
        "    # Initialization\n",
        "    batch_size = config.batch_size\n",
        "    lr = config.lr\n",
        "    lam = config.lam\n",
        "    epoch = config.epoch\n",
        "\n",
        "    beta_1 = np.full(x[0].shape, 0.9).reshape(-1, 1)\n",
        "    beta_2 = np.full(x[0].shape, 0.99).reshape(-1, 1)\n",
        "\n",
        "    # 2-nd polynomial regression(w1,w2,b)\n",
        "    w1 = np.full(x[0].shape, 0.1).reshape(-1, 1)\n",
        "    w2 = np.full(x[0].shape, 0.1).reshape(-1, 1)\n",
        "    bias = 0.1\n",
        "\n",
        "    m_t1 = np.full(x[0].shape, 0).reshape(-1, 1)\n",
        "    m_t2 = np.full(x[0].shape, 0).reshape(-1, 1)\n",
        "    m_t_3 = 0.0\n",
        "\n",
        "    v_t1 = np.full(x[0].shape, 0).reshape(-1, 1)\n",
        "    v_t2 = np.full(x[0].shape, 0).reshape(-1, 1)\n",
        "    v_t_3 = 0.0\n",
        "\n",
        "    t = 0\n",
        "    epsilon = 1e-8\n",
        "\n",
        "    # Training loop\n",
        "    for num in range(epoch):\n",
        "        for b in range(int(x.shape[0]/batch_size)):\n",
        "            t+=1\n",
        "            x_batch = x[b*batch_size:(b+1)*batch_size]\n",
        "            y_batch = y[b*batch_size:(b+1)*batch_size].reshape(-1,1)\n",
        "\n",
        "            # Prediction of linear regression\n",
        "            pred = np.dot(x_batch**2, w1) + np.dot(x_batch, w2) + bias\n",
        "\n",
        "            # loss\n",
        "            loss = y_batch - pred\n",
        "\n",
        "            # Compute gradient\n",
        "            g_t1 = np.dot((x_batch**2).transpose(), loss) * (-2)\n",
        "            g_t2 = np.dot(x_batch.transpose(),loss) * (-2)\n",
        "            g_t_3 = loss.sum(axis=0) * (-2)\n",
        "\n",
        "            m_t1 = beta_1*m_t1 + (1-beta_1)*g_t1\n",
        "            m_t2 = beta_1*m_t2 + (1-beta_1)*g_t2\n",
        "            m_t_3 = 0.9*m_t_3 + (1-0.9)*g_t_3\n",
        "\n",
        "            v_t1 = beta_2*v_t1 + (1-beta_2)*np.multiply(g_t1, g_t1)\n",
        "            v_t2 = beta_2*v_t2 + (1-beta_2)*np.multiply(g_t2, g_t2)\n",
        "            v_t_3 = 0.99*v_t_3 + (1-0.99)*(g_t_3*g_t_3)\n",
        "\n",
        "            m_cap1 = m_t1/(1-(beta_1**t))\n",
        "            m_cap2 = m_t2/(1-(beta_1**t))\n",
        "            m_cap_3 = m_t_3/(1-(0.9**t))\n",
        "\n",
        "            v_cap1 = v_t1/(1-(beta_2**t))\n",
        "            v_cap2 = v_t2/(1-(beta_2**t))\n",
        "            v_cap_3 = v_t_3/(1-(0.99**t))\n",
        "\n",
        "            w_1 = np.copy(w1)\n",
        "            w_2 = np.copy(w2)\n",
        "\n",
        "            # Update weight & bias\n",
        "            w1 -= ((lr*m_cap1)/(np.sqrt(v_cap1)+epsilon))\n",
        "            w2 -= ((lr*m_cap2)/(np.sqrt(v_cap2)+epsilon))\n",
        "            bias -= (lr*m_cap_3)/(math.sqrt(v_cap_3)+epsilon)\n",
        "\n",
        "\n",
        "    return w1, w2, bias"
      ],
      "execution_count": null,
      "outputs": []
    },
    {
      "cell_type": "code",
      "source": [
        "from argparse import Namespace\n",
        "\n",
        "# TODO: Tune the config to boost your performance.\n",
        "train_config = Namespace(\n",
        "    batch_size = 512,\n",
        "    lr = 1e-1,\n",
        "    lam = 0.001,\n",
        "    epoch = 1,\n",
        ")\n"
      ],
      "metadata": {
        "id": "ZpdOsMfXLxH2"
      },
      "execution_count": null,
      "outputs": []
    },
    {
      "cell_type": "markdown",
      "source": [
        "# **Training your regression model**"
      ],
      "metadata": {
        "id": "ay-RhqqA88vS"
      }
    },
    {
      "cell_type": "code",
      "source": [
        "data = pd.read_csv(\"/content/train.csv\")\n",
        "data"
      ],
      "metadata": {
        "colab": {
          "base_uri": "https://localhost:8080/",
          "height": 419
        },
        "id": "EoR5Q5kvJm4t",
        "outputId": "46add20d-eb36-46b7-c3db-37e9fc5f3b19"
      },
      "execution_count": null,
      "outputs": [
        {
          "output_type": "execute_result",
          "data": {
            "text/plain": [
              "      AMB_TEMP    CO   NO   NO2   NOx    O3  PM10  WS_HR  RAINFALL  RH  SO2  \\\n",
              "0         10.8  0.32  1.7   8.6  10.3  22.9    21    0.6       0.0  71  1.9   \n",
              "1         10.8  0.27  1.6   6.2   7.8  23.8    20    1.4       0.0  71  1.7   \n",
              "2         11.0  0.25  0.9   5.4   6.3  27.4    21    0.8       0.0  68  1.6   \n",
              "3         11.0  0.23  0.7   3.1   3.8  29.5    21    1.8       0.0  68  1.6   \n",
              "4         11.3  0.22  0.8   2.9   3.8  30.7    16    1.9       0.0  67  1.6   \n",
              "...        ...   ...  ...   ...   ...   ...   ...    ...       ...  ..  ...   \n",
              "5769      29.0  0.41  1.2  14.0  15.3  23.0    21    1.4       0.0  74  2.8   \n",
              "5770      28.2  0.33  1.7  11.7  13.5  19.5    23    2.1       0.0  78  2.3   \n",
              "5771      28.0  0.29  1.3   9.1  10.4  17.6    17    1.5       0.0  78  2.0   \n",
              "5772      28.0  0.27  1.4   9.5  11.0  15.4    17    1.1       0.0  75  1.8   \n",
              "5773      27.9  0.23  0.6   8.3   9.0  14.6    15    0.8       0.0  76  1.4   \n",
              "\n",
              "      WD_HR  WIND_DIREC  WIND_SPEED  PM2.5  \n",
              "0       172         171         0.6     15  \n",
              "1       161         129         1.8     13  \n",
              "2       152         147         1.5     12  \n",
              "3       138         145         1.7      9  \n",
              "4       140         139         1.7      9  \n",
              "...     ...         ...         ...    ...  \n",
              "5769    149         168         2.0     14  \n",
              "5770    187         179         2.5     15  \n",
              "5771    173         200         1.5     13  \n",
              "5772    171         135         0.9     10  \n",
              "5773    138         136         1.1      9  \n",
              "\n",
              "[5774 rows x 15 columns]"
            ],
            "text/html": [
              "\n",
              "  <div id=\"df-7f6e22fe-c093-46f1-87a6-727d6a764c57\" class=\"colab-df-container\">\n",
              "    <div>\n",
              "<style scoped>\n",
              "    .dataframe tbody tr th:only-of-type {\n",
              "        vertical-align: middle;\n",
              "    }\n",
              "\n",
              "    .dataframe tbody tr th {\n",
              "        vertical-align: top;\n",
              "    }\n",
              "\n",
              "    .dataframe thead th {\n",
              "        text-align: right;\n",
              "    }\n",
              "</style>\n",
              "<table border=\"1\" class=\"dataframe\">\n",
              "  <thead>\n",
              "    <tr style=\"text-align: right;\">\n",
              "      <th></th>\n",
              "      <th>AMB_TEMP</th>\n",
              "      <th>CO</th>\n",
              "      <th>NO</th>\n",
              "      <th>NO2</th>\n",
              "      <th>NOx</th>\n",
              "      <th>O3</th>\n",
              "      <th>PM10</th>\n",
              "      <th>WS_HR</th>\n",
              "      <th>RAINFALL</th>\n",
              "      <th>RH</th>\n",
              "      <th>SO2</th>\n",
              "      <th>WD_HR</th>\n",
              "      <th>WIND_DIREC</th>\n",
              "      <th>WIND_SPEED</th>\n",
              "      <th>PM2.5</th>\n",
              "    </tr>\n",
              "  </thead>\n",
              "  <tbody>\n",
              "    <tr>\n",
              "      <th>0</th>\n",
              "      <td>10.8</td>\n",
              "      <td>0.32</td>\n",
              "      <td>1.7</td>\n",
              "      <td>8.6</td>\n",
              "      <td>10.3</td>\n",
              "      <td>22.9</td>\n",
              "      <td>21</td>\n",
              "      <td>0.6</td>\n",
              "      <td>0.0</td>\n",
              "      <td>71</td>\n",
              "      <td>1.9</td>\n",
              "      <td>172</td>\n",
              "      <td>171</td>\n",
              "      <td>0.6</td>\n",
              "      <td>15</td>\n",
              "    </tr>\n",
              "    <tr>\n",
              "      <th>1</th>\n",
              "      <td>10.8</td>\n",
              "      <td>0.27</td>\n",
              "      <td>1.6</td>\n",
              "      <td>6.2</td>\n",
              "      <td>7.8</td>\n",
              "      <td>23.8</td>\n",
              "      <td>20</td>\n",
              "      <td>1.4</td>\n",
              "      <td>0.0</td>\n",
              "      <td>71</td>\n",
              "      <td>1.7</td>\n",
              "      <td>161</td>\n",
              "      <td>129</td>\n",
              "      <td>1.8</td>\n",
              "      <td>13</td>\n",
              "    </tr>\n",
              "    <tr>\n",
              "      <th>2</th>\n",
              "      <td>11.0</td>\n",
              "      <td>0.25</td>\n",
              "      <td>0.9</td>\n",
              "      <td>5.4</td>\n",
              "      <td>6.3</td>\n",
              "      <td>27.4</td>\n",
              "      <td>21</td>\n",
              "      <td>0.8</td>\n",
              "      <td>0.0</td>\n",
              "      <td>68</td>\n",
              "      <td>1.6</td>\n",
              "      <td>152</td>\n",
              "      <td>147</td>\n",
              "      <td>1.5</td>\n",
              "      <td>12</td>\n",
              "    </tr>\n",
              "    <tr>\n",
              "      <th>3</th>\n",
              "      <td>11.0</td>\n",
              "      <td>0.23</td>\n",
              "      <td>0.7</td>\n",
              "      <td>3.1</td>\n",
              "      <td>3.8</td>\n",
              "      <td>29.5</td>\n",
              "      <td>21</td>\n",
              "      <td>1.8</td>\n",
              "      <td>0.0</td>\n",
              "      <td>68</td>\n",
              "      <td>1.6</td>\n",
              "      <td>138</td>\n",
              "      <td>145</td>\n",
              "      <td>1.7</td>\n",
              "      <td>9</td>\n",
              "    </tr>\n",
              "    <tr>\n",
              "      <th>4</th>\n",
              "      <td>11.3</td>\n",
              "      <td>0.22</td>\n",
              "      <td>0.8</td>\n",
              "      <td>2.9</td>\n",
              "      <td>3.8</td>\n",
              "      <td>30.7</td>\n",
              "      <td>16</td>\n",
              "      <td>1.9</td>\n",
              "      <td>0.0</td>\n",
              "      <td>67</td>\n",
              "      <td>1.6</td>\n",
              "      <td>140</td>\n",
              "      <td>139</td>\n",
              "      <td>1.7</td>\n",
              "      <td>9</td>\n",
              "    </tr>\n",
              "    <tr>\n",
              "      <th>...</th>\n",
              "      <td>...</td>\n",
              "      <td>...</td>\n",
              "      <td>...</td>\n",
              "      <td>...</td>\n",
              "      <td>...</td>\n",
              "      <td>...</td>\n",
              "      <td>...</td>\n",
              "      <td>...</td>\n",
              "      <td>...</td>\n",
              "      <td>...</td>\n",
              "      <td>...</td>\n",
              "      <td>...</td>\n",
              "      <td>...</td>\n",
              "      <td>...</td>\n",
              "      <td>...</td>\n",
              "    </tr>\n",
              "    <tr>\n",
              "      <th>5769</th>\n",
              "      <td>29.0</td>\n",
              "      <td>0.41</td>\n",
              "      <td>1.2</td>\n",
              "      <td>14.0</td>\n",
              "      <td>15.3</td>\n",
              "      <td>23.0</td>\n",
              "      <td>21</td>\n",
              "      <td>1.4</td>\n",
              "      <td>0.0</td>\n",
              "      <td>74</td>\n",
              "      <td>2.8</td>\n",
              "      <td>149</td>\n",
              "      <td>168</td>\n",
              "      <td>2.0</td>\n",
              "      <td>14</td>\n",
              "    </tr>\n",
              "    <tr>\n",
              "      <th>5770</th>\n",
              "      <td>28.2</td>\n",
              "      <td>0.33</td>\n",
              "      <td>1.7</td>\n",
              "      <td>11.7</td>\n",
              "      <td>13.5</td>\n",
              "      <td>19.5</td>\n",
              "      <td>23</td>\n",
              "      <td>2.1</td>\n",
              "      <td>0.0</td>\n",
              "      <td>78</td>\n",
              "      <td>2.3</td>\n",
              "      <td>187</td>\n",
              "      <td>179</td>\n",
              "      <td>2.5</td>\n",
              "      <td>15</td>\n",
              "    </tr>\n",
              "    <tr>\n",
              "      <th>5771</th>\n",
              "      <td>28.0</td>\n",
              "      <td>0.29</td>\n",
              "      <td>1.3</td>\n",
              "      <td>9.1</td>\n",
              "      <td>10.4</td>\n",
              "      <td>17.6</td>\n",
              "      <td>17</td>\n",
              "      <td>1.5</td>\n",
              "      <td>0.0</td>\n",
              "      <td>78</td>\n",
              "      <td>2.0</td>\n",
              "      <td>173</td>\n",
              "      <td>200</td>\n",
              "      <td>1.5</td>\n",
              "      <td>13</td>\n",
              "    </tr>\n",
              "    <tr>\n",
              "      <th>5772</th>\n",
              "      <td>28.0</td>\n",
              "      <td>0.27</td>\n",
              "      <td>1.4</td>\n",
              "      <td>9.5</td>\n",
              "      <td>11.0</td>\n",
              "      <td>15.4</td>\n",
              "      <td>17</td>\n",
              "      <td>1.1</td>\n",
              "      <td>0.0</td>\n",
              "      <td>75</td>\n",
              "      <td>1.8</td>\n",
              "      <td>171</td>\n",
              "      <td>135</td>\n",
              "      <td>0.9</td>\n",
              "      <td>10</td>\n",
              "    </tr>\n",
              "    <tr>\n",
              "      <th>5773</th>\n",
              "      <td>27.9</td>\n",
              "      <td>0.23</td>\n",
              "      <td>0.6</td>\n",
              "      <td>8.3</td>\n",
              "      <td>9.0</td>\n",
              "      <td>14.6</td>\n",
              "      <td>15</td>\n",
              "      <td>0.8</td>\n",
              "      <td>0.0</td>\n",
              "      <td>76</td>\n",
              "      <td>1.4</td>\n",
              "      <td>138</td>\n",
              "      <td>136</td>\n",
              "      <td>1.1</td>\n",
              "      <td>9</td>\n",
              "    </tr>\n",
              "  </tbody>\n",
              "</table>\n",
              "<p>5774 rows × 15 columns</p>\n",
              "</div>\n",
              "    <div class=\"colab-df-buttons\">\n",
              "\n",
              "  <div class=\"colab-df-container\">\n",
              "    <button class=\"colab-df-convert\" onclick=\"convertToInteractive('df-7f6e22fe-c093-46f1-87a6-727d6a764c57')\"\n",
              "            title=\"Convert this dataframe to an interactive table.\"\n",
              "            style=\"display:none;\">\n",
              "\n",
              "  <svg xmlns=\"http://www.w3.org/2000/svg\" height=\"24px\" viewBox=\"0 -960 960 960\">\n",
              "    <path d=\"M120-120v-720h720v720H120Zm60-500h600v-160H180v160Zm220 220h160v-160H400v160Zm0 220h160v-160H400v160ZM180-400h160v-160H180v160Zm440 0h160v-160H620v160ZM180-180h160v-160H180v160Zm440 0h160v-160H620v160Z\"/>\n",
              "  </svg>\n",
              "    </button>\n",
              "\n",
              "  <style>\n",
              "    .colab-df-container {\n",
              "      display:flex;\n",
              "      gap: 12px;\n",
              "    }\n",
              "\n",
              "    .colab-df-convert {\n",
              "      background-color: #E8F0FE;\n",
              "      border: none;\n",
              "      border-radius: 50%;\n",
              "      cursor: pointer;\n",
              "      display: none;\n",
              "      fill: #1967D2;\n",
              "      height: 32px;\n",
              "      padding: 0 0 0 0;\n",
              "      width: 32px;\n",
              "    }\n",
              "\n",
              "    .colab-df-convert:hover {\n",
              "      background-color: #E2EBFA;\n",
              "      box-shadow: 0px 1px 2px rgba(60, 64, 67, 0.3), 0px 1px 3px 1px rgba(60, 64, 67, 0.15);\n",
              "      fill: #174EA6;\n",
              "    }\n",
              "\n",
              "    .colab-df-buttons div {\n",
              "      margin-bottom: 4px;\n",
              "    }\n",
              "\n",
              "    [theme=dark] .colab-df-convert {\n",
              "      background-color: #3B4455;\n",
              "      fill: #D2E3FC;\n",
              "    }\n",
              "\n",
              "    [theme=dark] .colab-df-convert:hover {\n",
              "      background-color: #434B5C;\n",
              "      box-shadow: 0px 1px 3px 1px rgba(0, 0, 0, 0.15);\n",
              "      filter: drop-shadow(0px 1px 2px rgba(0, 0, 0, 0.3));\n",
              "      fill: #FFFFFF;\n",
              "    }\n",
              "  </style>\n",
              "\n",
              "    <script>\n",
              "      const buttonEl =\n",
              "        document.querySelector('#df-7f6e22fe-c093-46f1-87a6-727d6a764c57 button.colab-df-convert');\n",
              "      buttonEl.style.display =\n",
              "        google.colab.kernel.accessAllowed ? 'block' : 'none';\n",
              "\n",
              "      async function convertToInteractive(key) {\n",
              "        const element = document.querySelector('#df-7f6e22fe-c093-46f1-87a6-727d6a764c57');\n",
              "        const dataTable =\n",
              "          await google.colab.kernel.invokeFunction('convertToInteractive',\n",
              "                                                    [key], {});\n",
              "        if (!dataTable) return;\n",
              "\n",
              "        const docLinkHtml = 'Like what you see? Visit the ' +\n",
              "          '<a target=\"_blank\" href=https://colab.research.google.com/notebooks/data_table.ipynb>data table notebook</a>'\n",
              "          + ' to learn more about interactive tables.';\n",
              "        element.innerHTML = '';\n",
              "        dataTable['output_type'] = 'display_data';\n",
              "        await google.colab.output.renderOutput(dataTable, element);\n",
              "        const docLink = document.createElement('div');\n",
              "        docLink.innerHTML = docLinkHtml;\n",
              "        element.appendChild(docLink);\n",
              "      }\n",
              "    </script>\n",
              "  </div>\n",
              "\n",
              "\n",
              "<div id=\"df-9db9633a-ca9f-4ad8-9a54-741eb149805f\">\n",
              "  <button class=\"colab-df-quickchart\" onclick=\"quickchart('df-9db9633a-ca9f-4ad8-9a54-741eb149805f')\"\n",
              "            title=\"Suggest charts.\"\n",
              "            style=\"display:none;\">\n",
              "\n",
              "<svg xmlns=\"http://www.w3.org/2000/svg\" height=\"24px\"viewBox=\"0 0 24 24\"\n",
              "     width=\"24px\">\n",
              "    <g>\n",
              "        <path d=\"M19 3H5c-1.1 0-2 .9-2 2v14c0 1.1.9 2 2 2h14c1.1 0 2-.9 2-2V5c0-1.1-.9-2-2-2zM9 17H7v-7h2v7zm4 0h-2V7h2v10zm4 0h-2v-4h2v4z\"/>\n",
              "    </g>\n",
              "</svg>\n",
              "  </button>\n",
              "\n",
              "<style>\n",
              "  .colab-df-quickchart {\n",
              "      --bg-color: #E8F0FE;\n",
              "      --fill-color: #1967D2;\n",
              "      --hover-bg-color: #E2EBFA;\n",
              "      --hover-fill-color: #174EA6;\n",
              "      --disabled-fill-color: #AAA;\n",
              "      --disabled-bg-color: #DDD;\n",
              "  }\n",
              "\n",
              "  [theme=dark] .colab-df-quickchart {\n",
              "      --bg-color: #3B4455;\n",
              "      --fill-color: #D2E3FC;\n",
              "      --hover-bg-color: #434B5C;\n",
              "      --hover-fill-color: #FFFFFF;\n",
              "      --disabled-bg-color: #3B4455;\n",
              "      --disabled-fill-color: #666;\n",
              "  }\n",
              "\n",
              "  .colab-df-quickchart {\n",
              "    background-color: var(--bg-color);\n",
              "    border: none;\n",
              "    border-radius: 50%;\n",
              "    cursor: pointer;\n",
              "    display: none;\n",
              "    fill: var(--fill-color);\n",
              "    height: 32px;\n",
              "    padding: 0;\n",
              "    width: 32px;\n",
              "  }\n",
              "\n",
              "  .colab-df-quickchart:hover {\n",
              "    background-color: var(--hover-bg-color);\n",
              "    box-shadow: 0 1px 2px rgba(60, 64, 67, 0.3), 0 1px 3px 1px rgba(60, 64, 67, 0.15);\n",
              "    fill: var(--button-hover-fill-color);\n",
              "  }\n",
              "\n",
              "  .colab-df-quickchart-complete:disabled,\n",
              "  .colab-df-quickchart-complete:disabled:hover {\n",
              "    background-color: var(--disabled-bg-color);\n",
              "    fill: var(--disabled-fill-color);\n",
              "    box-shadow: none;\n",
              "  }\n",
              "\n",
              "  .colab-df-spinner {\n",
              "    border: 2px solid var(--fill-color);\n",
              "    border-color: transparent;\n",
              "    border-bottom-color: var(--fill-color);\n",
              "    animation:\n",
              "      spin 1s steps(1) infinite;\n",
              "  }\n",
              "\n",
              "  @keyframes spin {\n",
              "    0% {\n",
              "      border-color: transparent;\n",
              "      border-bottom-color: var(--fill-color);\n",
              "      border-left-color: var(--fill-color);\n",
              "    }\n",
              "    20% {\n",
              "      border-color: transparent;\n",
              "      border-left-color: var(--fill-color);\n",
              "      border-top-color: var(--fill-color);\n",
              "    }\n",
              "    30% {\n",
              "      border-color: transparent;\n",
              "      border-left-color: var(--fill-color);\n",
              "      border-top-color: var(--fill-color);\n",
              "      border-right-color: var(--fill-color);\n",
              "    }\n",
              "    40% {\n",
              "      border-color: transparent;\n",
              "      border-right-color: var(--fill-color);\n",
              "      border-top-color: var(--fill-color);\n",
              "    }\n",
              "    60% {\n",
              "      border-color: transparent;\n",
              "      border-right-color: var(--fill-color);\n",
              "    }\n",
              "    80% {\n",
              "      border-color: transparent;\n",
              "      border-right-color: var(--fill-color);\n",
              "      border-bottom-color: var(--fill-color);\n",
              "    }\n",
              "    90% {\n",
              "      border-color: transparent;\n",
              "      border-bottom-color: var(--fill-color);\n",
              "    }\n",
              "  }\n",
              "</style>\n",
              "\n",
              "  <script>\n",
              "    async function quickchart(key) {\n",
              "      const quickchartButtonEl =\n",
              "        document.querySelector('#' + key + ' button');\n",
              "      quickchartButtonEl.disabled = true;  // To prevent multiple clicks.\n",
              "      quickchartButtonEl.classList.add('colab-df-spinner');\n",
              "      try {\n",
              "        const charts = await google.colab.kernel.invokeFunction(\n",
              "            'suggestCharts', [key], {});\n",
              "      } catch (error) {\n",
              "        console.error('Error during call to suggestCharts:', error);\n",
              "      }\n",
              "      quickchartButtonEl.classList.remove('colab-df-spinner');\n",
              "      quickchartButtonEl.classList.add('colab-df-quickchart-complete');\n",
              "    }\n",
              "    (() => {\n",
              "      let quickchartButtonEl =\n",
              "        document.querySelector('#df-9db9633a-ca9f-4ad8-9a54-741eb149805f button');\n",
              "      quickchartButtonEl.style.display =\n",
              "        google.colab.kernel.accessAllowed ? 'block' : 'none';\n",
              "    })();\n",
              "  </script>\n",
              "</div>\n",
              "    </div>\n",
              "  </div>\n"
            ]
          },
          "metadata": {},
          "execution_count": 55
        }
      ]
    },
    {
      "cell_type": "code",
      "source": [
        "# Choose your features to train.\n",
        "# Hint:\n",
        "# 1. You can select more than one feature.\n",
        "# 2. You should select \"good\" features.\n",
        "\n",
        "# TODO: Carefully justify which feature should be chosen.\n",
        "feats = [2]"
      ],
      "metadata": {
        "id": "_Akqj5yYVGHA"
      },
      "execution_count": null,
      "outputs": []
    },
    {
      "cell_type": "code",
      "source": [
        "# Training data preprocessing.\n",
        "\n",
        "data = data.values\n",
        "train_data = np.transpose(np.array(np.float64(data)))\n",
        "train_x, train_y = parse2train(train_data, feats)"
      ],
      "metadata": {
        "id": "AiEWGMQXLM99"
      },
      "execution_count": null,
      "outputs": []
    },
    {
      "cell_type": "code",
      "metadata": {
        "id": "HhfoPJUhcnH9",
        "colab": {
          "base_uri": "https://localhost:8080/"
        },
        "outputId": "9926695b-43ab-497f-e6cb-902e7fca6fcf"
      },
      "source": [
        "# Train your regression model\n",
        "\n",
        "w1, w2, bias = minibatch(train_x, train_y, train_config)\n",
        "print(w1.shape, w2.shape, bias.shape)"
      ],
      "execution_count": null,
      "outputs": [
        {
          "output_type": "stream",
          "name": "stdout",
          "text": [
            "(8, 1) (8, 1) (1,)\n"
          ]
        }
      ]
    },
    {
      "cell_type": "code",
      "source": [
        "w1, w2, bias"
      ],
      "metadata": {
        "colab": {
          "base_uri": "https://localhost:8080/"
        },
        "id": "P1czVSvv4u88",
        "outputId": "f024f4f0-0738-4890-a603-2bed8b84e11b"
      },
      "execution_count": null,
      "outputs": [
        {
          "output_type": "execute_result",
          "data": {
            "text/plain": [
              "(array([[ 0.0324149 ],\n",
              "        [-0.10955948],\n",
              "        [-0.01614332],\n",
              "        [ 0.09518239],\n",
              "        [-0.051995  ],\n",
              "        [ 0.0658696 ],\n",
              "        [-0.07257947],\n",
              "        [ 0.08801479]]),\n",
              " array([[0.38487713],\n",
              "        [0.27877768],\n",
              "        [0.26185372],\n",
              "        [0.24145826],\n",
              "        [0.22826823],\n",
              "        [0.29885901],\n",
              "        [0.26746609],\n",
              "        [0.36222515]]),\n",
              " array([0.79817754]))"
            ]
          },
          "metadata": {},
          "execution_count": 59
        }
      ]
    },
    {
      "cell_type": "markdown",
      "metadata": {
        "id": "019GwPMrbmrB"
      },
      "source": [
        "# **Testing:**\n"
      ]
    },
    {
      "cell_type": "code",
      "metadata": {
        "id": "5FjQNzOb6BeQ"
      },
      "source": [
        "def parse2test(data, feats):\n",
        "  x = []\n",
        "  for i in range(90):\n",
        "    x_tmp = data[feats,8*i: 8*i+8]\n",
        "    x.append(x_tmp.reshape(-1,))\n",
        "\n",
        "  # x.shape: (n, 15, 8)\n",
        "  x = np.array(x)\n",
        "  return x\n"
      ],
      "execution_count": null,
      "outputs": []
    },
    {
      "cell_type": "code",
      "source": [
        "data = pd.read_csv('test.csv')\n",
        "print(data)\n",
        "data = data.values\n",
        "\n",
        "test_data = np.transpose(np.array(np.float64(data)))\n",
        "test_x = parse2test(test_data, feats)"
      ],
      "metadata": {
        "id": "z40o9QbAYbR6",
        "colab": {
          "base_uri": "https://localhost:8080/"
        },
        "outputId": "2d7dc7c6-7264-412c-c07e-7eb57bb710cf"
      },
      "execution_count": null,
      "outputs": [
        {
          "output_type": "stream",
          "name": "stdout",
          "text": [
            "     AMB_TEMP    CO   NO   NO2   NOx    O3  PM10  WS_HR  RAINFALL    RH  SO2  \\\n",
            "0        27.5  0.22  0.7   9.0   9.8  13.2  31.0    1.2       0.0  79.0  1.7   \n",
            "1        27.2  0.17  0.4   5.0   5.4  15.7  20.0    1.5       0.0  79.0  1.6   \n",
            "2        26.8  0.17  0.4   4.3   4.8  12.8  16.0    1.6       0.0  81.0  1.3   \n",
            "3        26.7  0.19  0.4   4.1   4.5  12.0  21.0    1.7       0.0  80.0  1.5   \n",
            "4        26.4  0.22  0.4   4.1   4.6  10.1  23.0    2.2       0.0  81.0  1.5   \n",
            "..        ...   ...  ...   ...   ...   ...   ...    ...       ...   ...  ...   \n",
            "715      16.0  0.26  0.3   3.9   4.2  47.1  34.0    2.7       0.0  70.0  0.5   \n",
            "716      15.6  0.25  0.4   3.3   3.7  44.1  27.0    3.0       0.0  74.0  0.6   \n",
            "717      15.7  0.24  0.4   3.7   4.1  44.1  29.0    2.9       0.0  73.0  0.6   \n",
            "718      15.1  0.24  0.6  10.5  11.1  29.9   9.0    0.8       0.0  95.0  0.6   \n",
            "719      15.8  0.28  0.6   6.0   6.7  40.5  28.0    3.0       0.0  74.0  0.5   \n",
            "\n",
            "     WD_HR  WIND_DIREC  WIND_SPEED  PM2.5  \n",
            "0    180.0       171.0         1.2   20.0  \n",
            "1    192.0       187.0         1.9    8.0  \n",
            "2    181.0       180.0         1.8    9.0  \n",
            "3    179.0       188.0         2.3    6.0  \n",
            "4    184.0       186.0         1.9    5.0  \n",
            "..     ...         ...         ...    ...  \n",
            "715  130.0       133.0         2.8   13.0  \n",
            "716  136.0       131.0         3.2   15.0  \n",
            "717  133.0       129.0         2.7   12.0  \n",
            "718   24.0        21.0         1.1    8.0  \n",
            "719  133.0       131.0         2.9   14.0  \n",
            "\n",
            "[720 rows x 15 columns]\n"
          ]
        }
      ]
    },
    {
      "cell_type": "markdown",
      "metadata": {
        "id": "fWrfEwaEdO6J"
      },
      "source": [
        "# **Write result as .csv**\n",
        "\n",
        "---\n",
        "\n"
      ]
    },
    {
      "cell_type": "code",
      "metadata": {
        "id": "TqEQ1fZ9-WMO",
        "colab": {
          "base_uri": "https://localhost:8080/"
        },
        "outputId": "73a1972c-dff3-41bb-d87f-c3c5b0c6cf7a"
      },
      "source": [
        " with open('r12942159_2nd_poly_v1.csv', 'w', newline='') as csvf:\n",
        "    # 建立 CSV 檔寫入器\n",
        "    writer = csv.writer(csvf)\n",
        "    writer.writerow(['Id','Predicted'])\n",
        "\n",
        "    print(test_x.shape)\n",
        "    for i in range(int(test_x.shape[0])):\n",
        "      # Prediction of linear regression\n",
        "      # prediction = (np.dot(np.reshape(w,-1),test_x[i]) + bias)[0]\n",
        "      # Prediction of 2nd polynomial regression\n",
        "      prediction = (np.dot(np.reshape(w1,-1),test_x[i]) + np.dot(np.reshape(w2,-1),test_x[i]) + bias)[0]\n",
        "\n",
        "      writer.writerow([i, prediction])"
      ],
      "execution_count": null,
      "outputs": [
        {
          "output_type": "stream",
          "name": "stdout",
          "text": [
            "(90, 8)\n"
          ]
        }
      ]
    }
  ]
}