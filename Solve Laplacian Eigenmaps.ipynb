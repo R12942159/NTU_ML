{
  "nbformat": 4,
  "nbformat_minor": 0,
  "metadata": {
    "colab": {
      "provenance": [],
      "authorship_tag": "ABX9TyOh6n0G7kgG7ciAkzrJFE4E",
      "include_colab_link": true
    },
    "kernelspec": {
      "name": "python3",
      "display_name": "Python 3"
    },
    "language_info": {
      "name": "python"
    }
  },
  "cells": [
    {
      "cell_type": "markdown",
      "metadata": {
        "id": "view-in-github",
        "colab_type": "text"
      },
      "source": [
        "<a href=\"https://colab.research.google.com/github/R12942159/NTU_ML/blob/Hw3/Solve%20Laplacian%20Eigenmaps.ipynb\" target=\"_parent\"><img src=\"https://colab.research.google.com/assets/colab-badge.svg\" alt=\"Open In Colab\"/></a>"
      ]
    },
    {
      "cell_type": "code",
      "execution_count": 1,
      "metadata": {
        "id": "CVo54BCjjxkN"
      },
      "outputs": [],
      "source": [
        "import os\n",
        "import numpy as np\n",
        "import matplotlib.pyplot as plt\n",
        "from numpy import random\n",
        "from tqdm.notebook import tqdm\n",
        "from random import choices"
      ]
    },
    {
      "cell_type": "code",
      "source": [
        "Sym_W=np.maximum(W,W.T)\n",
        "D=np.diag(np.sum(Sym_W,axis=1))\n",
        "Arr=np.dot(np.linalg.inv(D),D-Sym_W)\n",
        "U,V=np.linalg.eig(Arr)\n",
        "X_sub=V[:,:2]"
      ],
      "metadata": {
        "id": "JA9PoyDNkEtn"
      },
      "execution_count": 9,
      "outputs": []
    },
    {
      "cell_type": "code",
      "source": [
        "W = np.array([\n",
        "    [0,1,1,1,0,0,0,0,0,0],\n",
        "    [1,0,0,1,0,0,0,1,0,0],\n",
        "    [1,0,0,0,0,0,0,1,0,0],\n",
        "    [1,1,0,0,0,0,0,0,0,0],\n",
        "    [0,0,0,0,0,1,1,0,0,0],\n",
        "    [0,0,0,0,1,0,0,0,0,0],\n",
        "    [0,0,0,0,1,0,0,0,0,1],\n",
        "    [0,1,1,0,0,0,0,0,1,0],\n",
        "    [0,0,0,0,0,0,0,1,0,1],\n",
        "    [0,0,0,0,0,0,1,0,1,0],\n",
        "])"
      ],
      "metadata": {
        "id": "skuqRh-JlNRf"
      },
      "execution_count": null,
      "outputs": []
    },
    {
      "cell_type": "code",
      "source": [
        "D = np.diag(np.sum(W,axis=-1))"
      ],
      "metadata": {
        "id": "37rUrVY-m4lE"
      },
      "execution_count": 23,
      "outputs": []
    },
    {
      "cell_type": "code",
      "source": [
        "L = D - W"
      ],
      "metadata": {
        "id": "9qp-_nLLnSAY"
      },
      "execution_count": 25,
      "outputs": []
    },
    {
      "cell_type": "markdown",
      "source": [
        "$\n",
        "minimize \\quad Trace(\\Psi^T L \\Psi ) \\\\\n",
        "let :  \\Phi  = D^{1/2}\\psi \\\\\n",
        "minimize \\quad Trace(\\Phi^T D^{-1/2}LD^{1/2}\\Phi )\n",
        "$"
      ],
      "metadata": {
        "id": "s4DWcrE2nt_M"
      }
    },
    {
      "cell_type": "code",
      "source": [
        "D_inverse = np.linalg.inv(D)"
      ],
      "metadata": {
        "id": "ktDcPa5qtyLe"
      },
      "execution_count": 46,
      "outputs": []
    },
    {
      "cell_type": "code",
      "source": [
        "A = np.dot(D_inverse, L)\n",
        "evalue, evector = np.linalg.eig(A)"
      ],
      "metadata": {
        "id": "aXkhkDAHt2fq"
      },
      "execution_count": 48,
      "outputs": []
    },
    {
      "cell_type": "code",
      "source": [
        "np.set_printoptions(suppress=True, precision=3, floatmode='fixed')\n",
        "evalue, evector"
      ],
      "metadata": {
        "colab": {
          "base_uri": "https://localhost:8080/"
        },
        "id": "OsgQIXD4uJex",
        "outputId": "f1409411-1311-456d-a19f-184081198b2c"
      },
      "execution_count": 57,
      "outputs": [
        {
          "output_type": "execute_result",
          "data": {
            "text/plain": [
              "(array([-0.000,  0.067,  0.353,  0.677,  0.905,  1.139,  1.969,  1.823,\n",
              "         1.585,  1.481]),\n",
              " array([[-0.316, -0.257,  0.191,  0.129, -0.281,  0.297,  0.068, -0.298,\n",
              "          0.374, -0.243],\n",
              "        [-0.316, -0.238,  0.126,  0.142,  0.320, -0.341, -0.084,  0.292,\n",
              "         -0.069, -0.438],\n",
              "        [-0.316, -0.215, -0.001, -0.437, -0.608,  0.058, -0.121,  0.441,\n",
              "         -0.327,  0.080],\n",
              "        [-0.316, -0.266,  0.245,  0.421,  0.207,  0.158,  0.008,  0.004,\n",
              "         -0.260,  0.709],\n",
              "        [-0.316,  0.495,  0.340, -0.133,  0.034, -0.068,  0.500,  0.354,\n",
              "          0.279,  0.135],\n",
              "        [-0.316,  0.531,  0.526, -0.413,  0.360,  0.487, -0.516, -0.431,\n",
              "         -0.477, -0.281],\n",
              "        [-0.316,  0.393, -0.086,  0.327, -0.354, -0.468, -0.454, -0.153,\n",
              "          0.150,  0.151],\n",
              "        [-0.316, -0.144, -0.192, -0.412,  0.165, -0.313,  0.167, -0.427,\n",
              "          0.008,  0.166],\n",
              "        [-0.316,  0.050, -0.497, -0.104,  0.335,  0.413, -0.282,  0.322,\n",
              "          0.382,  0.118],\n",
              "        [-0.316,  0.237, -0.451,  0.345, -0.102,  0.198,  0.380, -0.103,\n",
              "         -0.455, -0.280]]))"
            ]
          },
          "metadata": {},
          "execution_count": 57
        }
      ]
    }
  ]
}