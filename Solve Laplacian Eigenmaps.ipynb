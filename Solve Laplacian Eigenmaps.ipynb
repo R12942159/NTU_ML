{
  "nbformat": 4,
  "nbformat_minor": 0,
  "metadata": {
    "colab": {
      "provenance": [],
      "include_colab_link": true
    },
    "kernelspec": {
      "name": "python3",
      "display_name": "Python 3"
    },
    "language_info": {
      "name": "python"
    }
  },
  "cells": [
    {
      "cell_type": "markdown",
      "metadata": {
        "id": "view-in-github",
        "colab_type": "text"
      },
      "source": [
        "<a href=\"https://colab.research.google.com/github/R12942159/NTU_ML/blob/Hw3/Solve%20Laplacian%20Eigenmaps.ipynb\" target=\"_parent\"><img src=\"https://colab.research.google.com/assets/colab-badge.svg\" alt=\"Open In Colab\"/></a>"
      ]
    },
    {
      "cell_type": "code",
      "execution_count": 1,
      "metadata": {
        "id": "CVo54BCjjxkN"
      },
      "outputs": [],
      "source": [
        "import os\n",
        "import numpy as np\n",
        "import matplotlib.pyplot as plt\n",
        "from numpy import random\n",
        "from tqdm.notebook import tqdm\n",
        "from random import choices\n",
        "import numpy as np\n",
        "import pandas as pd\n",
        "import numpy as np\n",
        "import matplotlib.pyplot as plt\n",
        "from mpl_toolkits.mplot3d import Axes3D  # Import 3D plotting tools"
      ]
    },
    {
      "cell_type": "code",
      "source": [
        "W = np.array([\n",
        "    [0,1,1,1,0,0,0,0,0,0],\n",
        "    [1,0,0,1,0,0,0,1,0,0],\n",
        "    [1,0,0,0,0,0,0,1,0,0],\n",
        "    [1,1,0,0,0,0,0,0,0,0],\n",
        "    [0,0,0,0,0,1,1,0,0,0],\n",
        "    [0,0,0,0,1,0,0,0,0,0],\n",
        "    [0,0,0,0,1,0,0,0,0,1],\n",
        "    [0,1,1,0,0,0,0,0,1,0],\n",
        "    [0,0,0,0,0,0,0,1,0,1],\n",
        "    [0,0,0,0,0,0,1,0,1,0],\n",
        "])"
      ],
      "metadata": {
        "id": "skuqRh-JlNRf"
      },
      "execution_count": 2,
      "outputs": []
    },
    {
      "cell_type": "code",
      "source": [
        "D = np.diag(np.sum(W,axis=-1))"
      ],
      "metadata": {
        "id": "37rUrVY-m4lE"
      },
      "execution_count": 3,
      "outputs": []
    },
    {
      "cell_type": "code",
      "source": [
        "L = D - W"
      ],
      "metadata": {
        "id": "9qp-_nLLnSAY"
      },
      "execution_count": 4,
      "outputs": []
    },
    {
      "cell_type": "markdown",
      "source": [
        "$\n",
        "minimize \\quad Trace(\\Psi^T L \\Psi ) \\\\\n",
        "let :  \\Phi  = D^{1/2}\\psi \\\\\n",
        "minimize \\quad Trace(\\Phi^T D^{-1/2}LD^{1/2}\\Phi )\n",
        "$\n",
        "\n",
        "We can get : $ D^{-1/2}LD^{-1/2} \\phi_i = \\lambda_i \\phi_i$\n",
        "\n",
        "then, $ \\Psi = D^{-1/2}\\phi$"
      ],
      "metadata": {
        "id": "s4DWcrE2nt_M"
      }
    },
    {
      "cell_type": "code",
      "source": [
        "D_inverse_sqrt = np.sqrt(np.linalg.inv(D))"
      ],
      "metadata": {
        "id": "ktDcPa5qtyLe"
      },
      "execution_count": 5,
      "outputs": []
    },
    {
      "cell_type": "code",
      "source": [
        "Eigenvalues, Eigenvectors = np.linalg.eig(np.dot(np.dot(D_inverse_sqrt, L), D_inverse_sqrt))"
      ],
      "metadata": {
        "id": "B26Ohmq5eylL"
      },
      "execution_count": 6,
      "outputs": []
    },
    {
      "cell_type": "code",
      "source": [
        "Eigenvectors = np.dot(D_inverse_sqrt, Eigenvectors)"
      ],
      "metadata": {
        "id": "87QbUzcZfps-"
      },
      "execution_count": 7,
      "outputs": []
    },
    {
      "cell_type": "code",
      "source": [
        "np.round(Eigenvalues, 4), np.round(Eigenvectors.T, 4)"
      ],
      "metadata": {
        "id": "Vcf8WzuRidaQ",
        "outputId": "59e03595-9f88-42c2-fbe3-ee7a55d8ba19",
        "colab": {
          "base_uri": "https://localhost:8080/"
        }
      },
      "execution_count": 8,
      "outputs": [
        {
          "output_type": "execute_result",
          "data": {
            "text/plain": [
              "(array([0.    , 0.0674, 0.3535, 0.6769, 0.9048, 1.1391, 1.9694, 1.8231,\n",
              "        1.585 , 1.4807]),\n",
              " array([[ 0.2132,  0.2132,  0.2132,  0.2132,  0.2132,  0.2132,  0.2132,\n",
              "          0.2132,  0.2132,  0.2132],\n",
              "        [ 0.1883,  0.1746,  0.1576,  0.1946, -0.3628, -0.389 , -0.2877,\n",
              "          0.1057, -0.0365, -0.1738],\n",
              "        [ 0.1419,  0.0936, -0.0005,  0.1821,  0.2525,  0.3905, -0.064 ,\n",
              "         -0.1425, -0.3695, -0.3353],\n",
              "        [ 0.0907,  0.0997, -0.3065,  0.2947, -0.0935, -0.2895,  0.2291,\n",
              "         -0.2888, -0.073 ,  0.2416],\n",
              "        [ 0.1949, -0.2222,  0.4215, -0.1437, -0.0238, -0.25  ,  0.2455,\n",
              "         -0.1147, -0.232 ,  0.0705],\n",
              "        [-0.2063,  0.237 , -0.0406, -0.1102,  0.0471, -0.3387,  0.3255,\n",
              "          0.2176, -0.2872, -0.1377],\n",
              "        [-0.0508,  0.0628,  0.0911, -0.0062, -0.3755,  0.3873,  0.3407,\n",
              "         -0.1258,  0.2119, -0.285 ],\n",
              "        [ 0.2025, -0.1984, -0.2991, -0.0025, -0.2405,  0.2921,  0.1037,\n",
              "          0.29  , -0.2185,  0.0697],\n",
              "        [-0.2702,  0.0502,  0.236 ,  0.188 , -0.2014,  0.3443, -0.1086,\n",
              "         -0.0059, -0.2758,  0.3285],\n",
              "        [-0.1641, -0.2954,  0.0541,  0.478 ,  0.0909, -0.1891,  0.1017,\n",
              "          0.1121,  0.0797, -0.1887]]))"
            ]
          },
          "metadata": {},
          "execution_count": 8
        }
      ]
    },
    {
      "cell_type": "markdown",
      "source": [
        "#### Double check\n",
        "$ \\Psi^T D \\Psi = I_{10} $"
      ],
      "metadata": {
        "id": "gTRwR-fSfVmG"
      }
    },
    {
      "cell_type": "code",
      "source": [
        "np.round(np.dot(np.dot(Eigenvectors.T, D), Eigenvectors), 4)"
      ],
      "metadata": {
        "id": "e0u471v6cuqa",
        "outputId": "5a28ecbe-5c4a-4c63-dab6-aa1bc22f19d9",
        "colab": {
          "base_uri": "https://localhost:8080/"
        }
      },
      "execution_count": 9,
      "outputs": [
        {
          "output_type": "execute_result",
          "data": {
            "text/plain": [
              "array([[ 1.,  0., -0., -0.,  0., -0.,  0., -0.,  0.,  0.],\n",
              "       [ 0.,  1.,  0.,  0.,  0., -0., -0.,  0.,  0., -0.],\n",
              "       [-0.,  0.,  1.,  0.,  0., -0., -0.,  0.,  0.,  0.],\n",
              "       [-0.,  0.,  0.,  1.,  0., -0., -0.,  0.,  0., -0.],\n",
              "       [ 0.,  0.,  0.,  0.,  1.,  0.,  0., -0., -0., -0.],\n",
              "       [-0., -0., -0., -0.,  0.,  1.,  0.,  0.,  0.,  0.],\n",
              "       [ 0., -0., -0., -0.,  0.,  0.,  1.,  0., -0.,  0.],\n",
              "       [-0.,  0.,  0.,  0., -0.,  0.,  0.,  1.,  0., -0.],\n",
              "       [ 0.,  0.,  0.,  0., -0.,  0., -0.,  0.,  1., -0.],\n",
              "       [ 0., -0.,  0., -0., -0.,  0.,  0., -0., -0.,  1.]])"
            ]
          },
          "metadata": {},
          "execution_count": 9
        }
      ]
    },
    {
      "cell_type": "markdown",
      "source": [
        "##### Eigenvalues"
      ],
      "metadata": {
        "id": "yELCoZDe1aps"
      }
    },
    {
      "cell_type": "code",
      "source": [
        "df = {'Eigenvalues': np.round(Eigenvalues, 4)}\n",
        "pd.DataFrame(data=df)"
      ],
      "metadata": {
        "colab": {
          "base_uri": "https://localhost:8080/",
          "height": 359
        },
        "id": "p7sXms7BziNz",
        "outputId": "e70cea24-2ad6-4714-d913-cd9a172f0e02"
      },
      "execution_count": 10,
      "outputs": [
        {
          "output_type": "execute_result",
          "data": {
            "text/plain": [
              "   Eigenvalues\n",
              "0       0.0000\n",
              "1       0.0674\n",
              "2       0.3535\n",
              "3       0.6769\n",
              "4       0.9048\n",
              "5       1.1391\n",
              "6       1.9694\n",
              "7       1.8231\n",
              "8       1.5850\n",
              "9       1.4807"
            ],
            "text/html": [
              "\n",
              "  <div id=\"df-cca4498e-aed0-4ef4-8c45-d879ad405b24\" class=\"colab-df-container\">\n",
              "    <div>\n",
              "<style scoped>\n",
              "    .dataframe tbody tr th:only-of-type {\n",
              "        vertical-align: middle;\n",
              "    }\n",
              "\n",
              "    .dataframe tbody tr th {\n",
              "        vertical-align: top;\n",
              "    }\n",
              "\n",
              "    .dataframe thead th {\n",
              "        text-align: right;\n",
              "    }\n",
              "</style>\n",
              "<table border=\"1\" class=\"dataframe\">\n",
              "  <thead>\n",
              "    <tr style=\"text-align: right;\">\n",
              "      <th></th>\n",
              "      <th>Eigenvalues</th>\n",
              "    </tr>\n",
              "  </thead>\n",
              "  <tbody>\n",
              "    <tr>\n",
              "      <th>0</th>\n",
              "      <td>0.0000</td>\n",
              "    </tr>\n",
              "    <tr>\n",
              "      <th>1</th>\n",
              "      <td>0.0674</td>\n",
              "    </tr>\n",
              "    <tr>\n",
              "      <th>2</th>\n",
              "      <td>0.3535</td>\n",
              "    </tr>\n",
              "    <tr>\n",
              "      <th>3</th>\n",
              "      <td>0.6769</td>\n",
              "    </tr>\n",
              "    <tr>\n",
              "      <th>4</th>\n",
              "      <td>0.9048</td>\n",
              "    </tr>\n",
              "    <tr>\n",
              "      <th>5</th>\n",
              "      <td>1.1391</td>\n",
              "    </tr>\n",
              "    <tr>\n",
              "      <th>6</th>\n",
              "      <td>1.9694</td>\n",
              "    </tr>\n",
              "    <tr>\n",
              "      <th>7</th>\n",
              "      <td>1.8231</td>\n",
              "    </tr>\n",
              "    <tr>\n",
              "      <th>8</th>\n",
              "      <td>1.5850</td>\n",
              "    </tr>\n",
              "    <tr>\n",
              "      <th>9</th>\n",
              "      <td>1.4807</td>\n",
              "    </tr>\n",
              "  </tbody>\n",
              "</table>\n",
              "</div>\n",
              "    <div class=\"colab-df-buttons\">\n",
              "\n",
              "  <div class=\"colab-df-container\">\n",
              "    <button class=\"colab-df-convert\" onclick=\"convertToInteractive('df-cca4498e-aed0-4ef4-8c45-d879ad405b24')\"\n",
              "            title=\"Convert this dataframe to an interactive table.\"\n",
              "            style=\"display:none;\">\n",
              "\n",
              "  <svg xmlns=\"http://www.w3.org/2000/svg\" height=\"24px\" viewBox=\"0 -960 960 960\">\n",
              "    <path d=\"M120-120v-720h720v720H120Zm60-500h600v-160H180v160Zm220 220h160v-160H400v160Zm0 220h160v-160H400v160ZM180-400h160v-160H180v160Zm440 0h160v-160H620v160ZM180-180h160v-160H180v160Zm440 0h160v-160H620v160Z\"/>\n",
              "  </svg>\n",
              "    </button>\n",
              "\n",
              "  <style>\n",
              "    .colab-df-container {\n",
              "      display:flex;\n",
              "      gap: 12px;\n",
              "    }\n",
              "\n",
              "    .colab-df-convert {\n",
              "      background-color: #E8F0FE;\n",
              "      border: none;\n",
              "      border-radius: 50%;\n",
              "      cursor: pointer;\n",
              "      display: none;\n",
              "      fill: #1967D2;\n",
              "      height: 32px;\n",
              "      padding: 0 0 0 0;\n",
              "      width: 32px;\n",
              "    }\n",
              "\n",
              "    .colab-df-convert:hover {\n",
              "      background-color: #E2EBFA;\n",
              "      box-shadow: 0px 1px 2px rgba(60, 64, 67, 0.3), 0px 1px 3px 1px rgba(60, 64, 67, 0.15);\n",
              "      fill: #174EA6;\n",
              "    }\n",
              "\n",
              "    .colab-df-buttons div {\n",
              "      margin-bottom: 4px;\n",
              "    }\n",
              "\n",
              "    [theme=dark] .colab-df-convert {\n",
              "      background-color: #3B4455;\n",
              "      fill: #D2E3FC;\n",
              "    }\n",
              "\n",
              "    [theme=dark] .colab-df-convert:hover {\n",
              "      background-color: #434B5C;\n",
              "      box-shadow: 0px 1px 3px 1px rgba(0, 0, 0, 0.15);\n",
              "      filter: drop-shadow(0px 1px 2px rgba(0, 0, 0, 0.3));\n",
              "      fill: #FFFFFF;\n",
              "    }\n",
              "  </style>\n",
              "\n",
              "    <script>\n",
              "      const buttonEl =\n",
              "        document.querySelector('#df-cca4498e-aed0-4ef4-8c45-d879ad405b24 button.colab-df-convert');\n",
              "      buttonEl.style.display =\n",
              "        google.colab.kernel.accessAllowed ? 'block' : 'none';\n",
              "\n",
              "      async function convertToInteractive(key) {\n",
              "        const element = document.querySelector('#df-cca4498e-aed0-4ef4-8c45-d879ad405b24');\n",
              "        const dataTable =\n",
              "          await google.colab.kernel.invokeFunction('convertToInteractive',\n",
              "                                                    [key], {});\n",
              "        if (!dataTable) return;\n",
              "\n",
              "        const docLinkHtml = 'Like what you see? Visit the ' +\n",
              "          '<a target=\"_blank\" href=https://colab.research.google.com/notebooks/data_table.ipynb>data table notebook</a>'\n",
              "          + ' to learn more about interactive tables.';\n",
              "        element.innerHTML = '';\n",
              "        dataTable['output_type'] = 'display_data';\n",
              "        await google.colab.output.renderOutput(dataTable, element);\n",
              "        const docLink = document.createElement('div');\n",
              "        docLink.innerHTML = docLinkHtml;\n",
              "        element.appendChild(docLink);\n",
              "      }\n",
              "    </script>\n",
              "  </div>\n",
              "\n",
              "\n",
              "<div id=\"df-c1331cba-9398-4933-bd6f-df836e4d9c10\">\n",
              "  <button class=\"colab-df-quickchart\" onclick=\"quickchart('df-c1331cba-9398-4933-bd6f-df836e4d9c10')\"\n",
              "            title=\"Suggest charts.\"\n",
              "            style=\"display:none;\">\n",
              "\n",
              "<svg xmlns=\"http://www.w3.org/2000/svg\" height=\"24px\"viewBox=\"0 0 24 24\"\n",
              "     width=\"24px\">\n",
              "    <g>\n",
              "        <path d=\"M19 3H5c-1.1 0-2 .9-2 2v14c0 1.1.9 2 2 2h14c1.1 0 2-.9 2-2V5c0-1.1-.9-2-2-2zM9 17H7v-7h2v7zm4 0h-2V7h2v10zm4 0h-2v-4h2v4z\"/>\n",
              "    </g>\n",
              "</svg>\n",
              "  </button>\n",
              "\n",
              "<style>\n",
              "  .colab-df-quickchart {\n",
              "      --bg-color: #E8F0FE;\n",
              "      --fill-color: #1967D2;\n",
              "      --hover-bg-color: #E2EBFA;\n",
              "      --hover-fill-color: #174EA6;\n",
              "      --disabled-fill-color: #AAA;\n",
              "      --disabled-bg-color: #DDD;\n",
              "  }\n",
              "\n",
              "  [theme=dark] .colab-df-quickchart {\n",
              "      --bg-color: #3B4455;\n",
              "      --fill-color: #D2E3FC;\n",
              "      --hover-bg-color: #434B5C;\n",
              "      --hover-fill-color: #FFFFFF;\n",
              "      --disabled-bg-color: #3B4455;\n",
              "      --disabled-fill-color: #666;\n",
              "  }\n",
              "\n",
              "  .colab-df-quickchart {\n",
              "    background-color: var(--bg-color);\n",
              "    border: none;\n",
              "    border-radius: 50%;\n",
              "    cursor: pointer;\n",
              "    display: none;\n",
              "    fill: var(--fill-color);\n",
              "    height: 32px;\n",
              "    padding: 0;\n",
              "    width: 32px;\n",
              "  }\n",
              "\n",
              "  .colab-df-quickchart:hover {\n",
              "    background-color: var(--hover-bg-color);\n",
              "    box-shadow: 0 1px 2px rgba(60, 64, 67, 0.3), 0 1px 3px 1px rgba(60, 64, 67, 0.15);\n",
              "    fill: var(--button-hover-fill-color);\n",
              "  }\n",
              "\n",
              "  .colab-df-quickchart-complete:disabled,\n",
              "  .colab-df-quickchart-complete:disabled:hover {\n",
              "    background-color: var(--disabled-bg-color);\n",
              "    fill: var(--disabled-fill-color);\n",
              "    box-shadow: none;\n",
              "  }\n",
              "\n",
              "  .colab-df-spinner {\n",
              "    border: 2px solid var(--fill-color);\n",
              "    border-color: transparent;\n",
              "    border-bottom-color: var(--fill-color);\n",
              "    animation:\n",
              "      spin 1s steps(1) infinite;\n",
              "  }\n",
              "\n",
              "  @keyframes spin {\n",
              "    0% {\n",
              "      border-color: transparent;\n",
              "      border-bottom-color: var(--fill-color);\n",
              "      border-left-color: var(--fill-color);\n",
              "    }\n",
              "    20% {\n",
              "      border-color: transparent;\n",
              "      border-left-color: var(--fill-color);\n",
              "      border-top-color: var(--fill-color);\n",
              "    }\n",
              "    30% {\n",
              "      border-color: transparent;\n",
              "      border-left-color: var(--fill-color);\n",
              "      border-top-color: var(--fill-color);\n",
              "      border-right-color: var(--fill-color);\n",
              "    }\n",
              "    40% {\n",
              "      border-color: transparent;\n",
              "      border-right-color: var(--fill-color);\n",
              "      border-top-color: var(--fill-color);\n",
              "    }\n",
              "    60% {\n",
              "      border-color: transparent;\n",
              "      border-right-color: var(--fill-color);\n",
              "    }\n",
              "    80% {\n",
              "      border-color: transparent;\n",
              "      border-right-color: var(--fill-color);\n",
              "      border-bottom-color: var(--fill-color);\n",
              "    }\n",
              "    90% {\n",
              "      border-color: transparent;\n",
              "      border-bottom-color: var(--fill-color);\n",
              "    }\n",
              "  }\n",
              "</style>\n",
              "\n",
              "  <script>\n",
              "    async function quickchart(key) {\n",
              "      const quickchartButtonEl =\n",
              "        document.querySelector('#' + key + ' button');\n",
              "      quickchartButtonEl.disabled = true;  // To prevent multiple clicks.\n",
              "      quickchartButtonEl.classList.add('colab-df-spinner');\n",
              "      try {\n",
              "        const charts = await google.colab.kernel.invokeFunction(\n",
              "            'suggestCharts', [key], {});\n",
              "      } catch (error) {\n",
              "        console.error('Error during call to suggestCharts:', error);\n",
              "      }\n",
              "      quickchartButtonEl.classList.remove('colab-df-spinner');\n",
              "      quickchartButtonEl.classList.add('colab-df-quickchart-complete');\n",
              "    }\n",
              "    (() => {\n",
              "      let quickchartButtonEl =\n",
              "        document.querySelector('#df-c1331cba-9398-4933-bd6f-df836e4d9c10 button');\n",
              "      quickchartButtonEl.style.display =\n",
              "        google.colab.kernel.accessAllowed ? 'block' : 'none';\n",
              "    })();\n",
              "  </script>\n",
              "</div>\n",
              "    </div>\n",
              "  </div>\n"
            ]
          },
          "metadata": {},
          "execution_count": 10
        }
      ]
    },
    {
      "cell_type": "markdown",
      "source": [
        "#### Eigenvectors"
      ],
      "metadata": {
        "id": "pJCWwohSgOdV"
      }
    },
    {
      "cell_type": "code",
      "source": [
        "column_names = [f'Eigenvector{i+1}' for i in range(10)]\n",
        "df = {column_name: np.round(Eigenvectors.T[i], 4) for i, column_name in enumerate(column_names)}\n",
        "df = pd.DataFrame(df)\n",
        "df"
      ],
      "metadata": {
        "id": "ZjID98tlgJ9g",
        "outputId": "08cd28e9-6e6f-4748-8bde-3d2e70808b7e",
        "colab": {
          "base_uri": "https://localhost:8080/",
          "height": 359
        }
      },
      "execution_count": 11,
      "outputs": [
        {
          "output_type": "execute_result",
          "data": {
            "text/plain": [
              "   Eigenvector1  Eigenvector2  Eigenvector3  Eigenvector4  Eigenvector5  \\\n",
              "0        0.2132        0.1883        0.1419        0.0907        0.1949   \n",
              "1        0.2132        0.1746        0.0936        0.0997       -0.2222   \n",
              "2        0.2132        0.1576       -0.0005       -0.3065        0.4215   \n",
              "3        0.2132        0.1946        0.1821        0.2947       -0.1437   \n",
              "4        0.2132       -0.3628        0.2525       -0.0935       -0.0238   \n",
              "5        0.2132       -0.3890        0.3905       -0.2895       -0.2500   \n",
              "6        0.2132       -0.2877       -0.0640        0.2291        0.2455   \n",
              "7        0.2132        0.1057       -0.1425       -0.2888       -0.1147   \n",
              "8        0.2132       -0.0365       -0.3695       -0.0730       -0.2320   \n",
              "9        0.2132       -0.1738       -0.3353        0.2416        0.0705   \n",
              "\n",
              "   Eigenvector6  Eigenvector7  Eigenvector8  Eigenvector9  Eigenvector10  \n",
              "0       -0.2063       -0.0508        0.2025       -0.2702        -0.1641  \n",
              "1        0.2370        0.0628       -0.1984        0.0502        -0.2954  \n",
              "2       -0.0406        0.0911       -0.2991        0.2360         0.0541  \n",
              "3       -0.1102       -0.0062       -0.0025        0.1880         0.4780  \n",
              "4        0.0471       -0.3755       -0.2405       -0.2014         0.0909  \n",
              "5       -0.3387        0.3873        0.2921        0.3443        -0.1891  \n",
              "6        0.3255        0.3407        0.1037       -0.1086         0.1017  \n",
              "7        0.2176       -0.1258        0.2900       -0.0059         0.1121  \n",
              "8       -0.2872        0.2119       -0.2185       -0.2758         0.0797  \n",
              "9       -0.1377       -0.2850        0.0697        0.3285        -0.1887  "
            ],
            "text/html": [
              "\n",
              "  <div id=\"df-95298c28-04cb-4928-bc5b-012776315239\" class=\"colab-df-container\">\n",
              "    <div>\n",
              "<style scoped>\n",
              "    .dataframe tbody tr th:only-of-type {\n",
              "        vertical-align: middle;\n",
              "    }\n",
              "\n",
              "    .dataframe tbody tr th {\n",
              "        vertical-align: top;\n",
              "    }\n",
              "\n",
              "    .dataframe thead th {\n",
              "        text-align: right;\n",
              "    }\n",
              "</style>\n",
              "<table border=\"1\" class=\"dataframe\">\n",
              "  <thead>\n",
              "    <tr style=\"text-align: right;\">\n",
              "      <th></th>\n",
              "      <th>Eigenvector1</th>\n",
              "      <th>Eigenvector2</th>\n",
              "      <th>Eigenvector3</th>\n",
              "      <th>Eigenvector4</th>\n",
              "      <th>Eigenvector5</th>\n",
              "      <th>Eigenvector6</th>\n",
              "      <th>Eigenvector7</th>\n",
              "      <th>Eigenvector8</th>\n",
              "      <th>Eigenvector9</th>\n",
              "      <th>Eigenvector10</th>\n",
              "    </tr>\n",
              "  </thead>\n",
              "  <tbody>\n",
              "    <tr>\n",
              "      <th>0</th>\n",
              "      <td>0.2132</td>\n",
              "      <td>0.1883</td>\n",
              "      <td>0.1419</td>\n",
              "      <td>0.0907</td>\n",
              "      <td>0.1949</td>\n",
              "      <td>-0.2063</td>\n",
              "      <td>-0.0508</td>\n",
              "      <td>0.2025</td>\n",
              "      <td>-0.2702</td>\n",
              "      <td>-0.1641</td>\n",
              "    </tr>\n",
              "    <tr>\n",
              "      <th>1</th>\n",
              "      <td>0.2132</td>\n",
              "      <td>0.1746</td>\n",
              "      <td>0.0936</td>\n",
              "      <td>0.0997</td>\n",
              "      <td>-0.2222</td>\n",
              "      <td>0.2370</td>\n",
              "      <td>0.0628</td>\n",
              "      <td>-0.1984</td>\n",
              "      <td>0.0502</td>\n",
              "      <td>-0.2954</td>\n",
              "    </tr>\n",
              "    <tr>\n",
              "      <th>2</th>\n",
              "      <td>0.2132</td>\n",
              "      <td>0.1576</td>\n",
              "      <td>-0.0005</td>\n",
              "      <td>-0.3065</td>\n",
              "      <td>0.4215</td>\n",
              "      <td>-0.0406</td>\n",
              "      <td>0.0911</td>\n",
              "      <td>-0.2991</td>\n",
              "      <td>0.2360</td>\n",
              "      <td>0.0541</td>\n",
              "    </tr>\n",
              "    <tr>\n",
              "      <th>3</th>\n",
              "      <td>0.2132</td>\n",
              "      <td>0.1946</td>\n",
              "      <td>0.1821</td>\n",
              "      <td>0.2947</td>\n",
              "      <td>-0.1437</td>\n",
              "      <td>-0.1102</td>\n",
              "      <td>-0.0062</td>\n",
              "      <td>-0.0025</td>\n",
              "      <td>0.1880</td>\n",
              "      <td>0.4780</td>\n",
              "    </tr>\n",
              "    <tr>\n",
              "      <th>4</th>\n",
              "      <td>0.2132</td>\n",
              "      <td>-0.3628</td>\n",
              "      <td>0.2525</td>\n",
              "      <td>-0.0935</td>\n",
              "      <td>-0.0238</td>\n",
              "      <td>0.0471</td>\n",
              "      <td>-0.3755</td>\n",
              "      <td>-0.2405</td>\n",
              "      <td>-0.2014</td>\n",
              "      <td>0.0909</td>\n",
              "    </tr>\n",
              "    <tr>\n",
              "      <th>5</th>\n",
              "      <td>0.2132</td>\n",
              "      <td>-0.3890</td>\n",
              "      <td>0.3905</td>\n",
              "      <td>-0.2895</td>\n",
              "      <td>-0.2500</td>\n",
              "      <td>-0.3387</td>\n",
              "      <td>0.3873</td>\n",
              "      <td>0.2921</td>\n",
              "      <td>0.3443</td>\n",
              "      <td>-0.1891</td>\n",
              "    </tr>\n",
              "    <tr>\n",
              "      <th>6</th>\n",
              "      <td>0.2132</td>\n",
              "      <td>-0.2877</td>\n",
              "      <td>-0.0640</td>\n",
              "      <td>0.2291</td>\n",
              "      <td>0.2455</td>\n",
              "      <td>0.3255</td>\n",
              "      <td>0.3407</td>\n",
              "      <td>0.1037</td>\n",
              "      <td>-0.1086</td>\n",
              "      <td>0.1017</td>\n",
              "    </tr>\n",
              "    <tr>\n",
              "      <th>7</th>\n",
              "      <td>0.2132</td>\n",
              "      <td>0.1057</td>\n",
              "      <td>-0.1425</td>\n",
              "      <td>-0.2888</td>\n",
              "      <td>-0.1147</td>\n",
              "      <td>0.2176</td>\n",
              "      <td>-0.1258</td>\n",
              "      <td>0.2900</td>\n",
              "      <td>-0.0059</td>\n",
              "      <td>0.1121</td>\n",
              "    </tr>\n",
              "    <tr>\n",
              "      <th>8</th>\n",
              "      <td>0.2132</td>\n",
              "      <td>-0.0365</td>\n",
              "      <td>-0.3695</td>\n",
              "      <td>-0.0730</td>\n",
              "      <td>-0.2320</td>\n",
              "      <td>-0.2872</td>\n",
              "      <td>0.2119</td>\n",
              "      <td>-0.2185</td>\n",
              "      <td>-0.2758</td>\n",
              "      <td>0.0797</td>\n",
              "    </tr>\n",
              "    <tr>\n",
              "      <th>9</th>\n",
              "      <td>0.2132</td>\n",
              "      <td>-0.1738</td>\n",
              "      <td>-0.3353</td>\n",
              "      <td>0.2416</td>\n",
              "      <td>0.0705</td>\n",
              "      <td>-0.1377</td>\n",
              "      <td>-0.2850</td>\n",
              "      <td>0.0697</td>\n",
              "      <td>0.3285</td>\n",
              "      <td>-0.1887</td>\n",
              "    </tr>\n",
              "  </tbody>\n",
              "</table>\n",
              "</div>\n",
              "    <div class=\"colab-df-buttons\">\n",
              "\n",
              "  <div class=\"colab-df-container\">\n",
              "    <button class=\"colab-df-convert\" onclick=\"convertToInteractive('df-95298c28-04cb-4928-bc5b-012776315239')\"\n",
              "            title=\"Convert this dataframe to an interactive table.\"\n",
              "            style=\"display:none;\">\n",
              "\n",
              "  <svg xmlns=\"http://www.w3.org/2000/svg\" height=\"24px\" viewBox=\"0 -960 960 960\">\n",
              "    <path d=\"M120-120v-720h720v720H120Zm60-500h600v-160H180v160Zm220 220h160v-160H400v160Zm0 220h160v-160H400v160ZM180-400h160v-160H180v160Zm440 0h160v-160H620v160ZM180-180h160v-160H180v160Zm440 0h160v-160H620v160Z\"/>\n",
              "  </svg>\n",
              "    </button>\n",
              "\n",
              "  <style>\n",
              "    .colab-df-container {\n",
              "      display:flex;\n",
              "      gap: 12px;\n",
              "    }\n",
              "\n",
              "    .colab-df-convert {\n",
              "      background-color: #E8F0FE;\n",
              "      border: none;\n",
              "      border-radius: 50%;\n",
              "      cursor: pointer;\n",
              "      display: none;\n",
              "      fill: #1967D2;\n",
              "      height: 32px;\n",
              "      padding: 0 0 0 0;\n",
              "      width: 32px;\n",
              "    }\n",
              "\n",
              "    .colab-df-convert:hover {\n",
              "      background-color: #E2EBFA;\n",
              "      box-shadow: 0px 1px 2px rgba(60, 64, 67, 0.3), 0px 1px 3px 1px rgba(60, 64, 67, 0.15);\n",
              "      fill: #174EA6;\n",
              "    }\n",
              "\n",
              "    .colab-df-buttons div {\n",
              "      margin-bottom: 4px;\n",
              "    }\n",
              "\n",
              "    [theme=dark] .colab-df-convert {\n",
              "      background-color: #3B4455;\n",
              "      fill: #D2E3FC;\n",
              "    }\n",
              "\n",
              "    [theme=dark] .colab-df-convert:hover {\n",
              "      background-color: #434B5C;\n",
              "      box-shadow: 0px 1px 3px 1px rgba(0, 0, 0, 0.15);\n",
              "      filter: drop-shadow(0px 1px 2px rgba(0, 0, 0, 0.3));\n",
              "      fill: #FFFFFF;\n",
              "    }\n",
              "  </style>\n",
              "\n",
              "    <script>\n",
              "      const buttonEl =\n",
              "        document.querySelector('#df-95298c28-04cb-4928-bc5b-012776315239 button.colab-df-convert');\n",
              "      buttonEl.style.display =\n",
              "        google.colab.kernel.accessAllowed ? 'block' : 'none';\n",
              "\n",
              "      async function convertToInteractive(key) {\n",
              "        const element = document.querySelector('#df-95298c28-04cb-4928-bc5b-012776315239');\n",
              "        const dataTable =\n",
              "          await google.colab.kernel.invokeFunction('convertToInteractive',\n",
              "                                                    [key], {});\n",
              "        if (!dataTable) return;\n",
              "\n",
              "        const docLinkHtml = 'Like what you see? Visit the ' +\n",
              "          '<a target=\"_blank\" href=https://colab.research.google.com/notebooks/data_table.ipynb>data table notebook</a>'\n",
              "          + ' to learn more about interactive tables.';\n",
              "        element.innerHTML = '';\n",
              "        dataTable['output_type'] = 'display_data';\n",
              "        await google.colab.output.renderOutput(dataTable, element);\n",
              "        const docLink = document.createElement('div');\n",
              "        docLink.innerHTML = docLinkHtml;\n",
              "        element.appendChild(docLink);\n",
              "      }\n",
              "    </script>\n",
              "  </div>\n",
              "\n",
              "\n",
              "<div id=\"df-d019c78e-6580-4fe7-a369-05be1fc05014\">\n",
              "  <button class=\"colab-df-quickchart\" onclick=\"quickchart('df-d019c78e-6580-4fe7-a369-05be1fc05014')\"\n",
              "            title=\"Suggest charts.\"\n",
              "            style=\"display:none;\">\n",
              "\n",
              "<svg xmlns=\"http://www.w3.org/2000/svg\" height=\"24px\"viewBox=\"0 0 24 24\"\n",
              "     width=\"24px\">\n",
              "    <g>\n",
              "        <path d=\"M19 3H5c-1.1 0-2 .9-2 2v14c0 1.1.9 2 2 2h14c1.1 0 2-.9 2-2V5c0-1.1-.9-2-2-2zM9 17H7v-7h2v7zm4 0h-2V7h2v10zm4 0h-2v-4h2v4z\"/>\n",
              "    </g>\n",
              "</svg>\n",
              "  </button>\n",
              "\n",
              "<style>\n",
              "  .colab-df-quickchart {\n",
              "      --bg-color: #E8F0FE;\n",
              "      --fill-color: #1967D2;\n",
              "      --hover-bg-color: #E2EBFA;\n",
              "      --hover-fill-color: #174EA6;\n",
              "      --disabled-fill-color: #AAA;\n",
              "      --disabled-bg-color: #DDD;\n",
              "  }\n",
              "\n",
              "  [theme=dark] .colab-df-quickchart {\n",
              "      --bg-color: #3B4455;\n",
              "      --fill-color: #D2E3FC;\n",
              "      --hover-bg-color: #434B5C;\n",
              "      --hover-fill-color: #FFFFFF;\n",
              "      --disabled-bg-color: #3B4455;\n",
              "      --disabled-fill-color: #666;\n",
              "  }\n",
              "\n",
              "  .colab-df-quickchart {\n",
              "    background-color: var(--bg-color);\n",
              "    border: none;\n",
              "    border-radius: 50%;\n",
              "    cursor: pointer;\n",
              "    display: none;\n",
              "    fill: var(--fill-color);\n",
              "    height: 32px;\n",
              "    padding: 0;\n",
              "    width: 32px;\n",
              "  }\n",
              "\n",
              "  .colab-df-quickchart:hover {\n",
              "    background-color: var(--hover-bg-color);\n",
              "    box-shadow: 0 1px 2px rgba(60, 64, 67, 0.3), 0 1px 3px 1px rgba(60, 64, 67, 0.15);\n",
              "    fill: var(--button-hover-fill-color);\n",
              "  }\n",
              "\n",
              "  .colab-df-quickchart-complete:disabled,\n",
              "  .colab-df-quickchart-complete:disabled:hover {\n",
              "    background-color: var(--disabled-bg-color);\n",
              "    fill: var(--disabled-fill-color);\n",
              "    box-shadow: none;\n",
              "  }\n",
              "\n",
              "  .colab-df-spinner {\n",
              "    border: 2px solid var(--fill-color);\n",
              "    border-color: transparent;\n",
              "    border-bottom-color: var(--fill-color);\n",
              "    animation:\n",
              "      spin 1s steps(1) infinite;\n",
              "  }\n",
              "\n",
              "  @keyframes spin {\n",
              "    0% {\n",
              "      border-color: transparent;\n",
              "      border-bottom-color: var(--fill-color);\n",
              "      border-left-color: var(--fill-color);\n",
              "    }\n",
              "    20% {\n",
              "      border-color: transparent;\n",
              "      border-left-color: var(--fill-color);\n",
              "      border-top-color: var(--fill-color);\n",
              "    }\n",
              "    30% {\n",
              "      border-color: transparent;\n",
              "      border-left-color: var(--fill-color);\n",
              "      border-top-color: var(--fill-color);\n",
              "      border-right-color: var(--fill-color);\n",
              "    }\n",
              "    40% {\n",
              "      border-color: transparent;\n",
              "      border-right-color: var(--fill-color);\n",
              "      border-top-color: var(--fill-color);\n",
              "    }\n",
              "    60% {\n",
              "      border-color: transparent;\n",
              "      border-right-color: var(--fill-color);\n",
              "    }\n",
              "    80% {\n",
              "      border-color: transparent;\n",
              "      border-right-color: var(--fill-color);\n",
              "      border-bottom-color: var(--fill-color);\n",
              "    }\n",
              "    90% {\n",
              "      border-color: transparent;\n",
              "      border-bottom-color: var(--fill-color);\n",
              "    }\n",
              "  }\n",
              "</style>\n",
              "\n",
              "  <script>\n",
              "    async function quickchart(key) {\n",
              "      const quickchartButtonEl =\n",
              "        document.querySelector('#' + key + ' button');\n",
              "      quickchartButtonEl.disabled = true;  // To prevent multiple clicks.\n",
              "      quickchartButtonEl.classList.add('colab-df-spinner');\n",
              "      try {\n",
              "        const charts = await google.colab.kernel.invokeFunction(\n",
              "            'suggestCharts', [key], {});\n",
              "      } catch (error) {\n",
              "        console.error('Error during call to suggestCharts:', error);\n",
              "      }\n",
              "      quickchartButtonEl.classList.remove('colab-df-spinner');\n",
              "      quickchartButtonEl.classList.add('colab-df-quickchart-complete');\n",
              "    }\n",
              "    (() => {\n",
              "      let quickchartButtonEl =\n",
              "        document.querySelector('#df-d019c78e-6580-4fe7-a369-05be1fc05014 button');\n",
              "      quickchartButtonEl.style.display =\n",
              "        google.colab.kernel.accessAllowed ? 'block' : 'none';\n",
              "    })();\n",
              "  </script>\n",
              "</div>\n",
              "    </div>\n",
              "  </div>\n"
            ]
          },
          "metadata": {},
          "execution_count": 11
        }
      ]
    },
    {
      "cell_type": "markdown",
      "source": [
        "#### 3-D scatter plot in the reduced points (z1, z2, ..., z10)"
      ],
      "metadata": {
        "id": "W-shpMpzwILy"
      }
    },
    {
      "cell_type": "code",
      "source": [
        "# Create a 3-D scatter plot\n",
        "fig = plt.figure()\n",
        "ax = fig.add_subplot(111, projection='3d')\n",
        "\n",
        "# Scatter plot the points\n",
        "ax.scatter(Eigenvectors[:, 0], Eigenvectors[:, 1], Eigenvectors[:, 2], c='b', marker='o')\n",
        "\n",
        "# Add labels for each axis\n",
        "ax.set_xlabel('X')\n",
        "ax.set_ylabel('Y')\n",
        "ax.set_zlabel('Z')\n",
        "\n",
        "# Show the plot\n",
        "plt.show()"
      ],
      "metadata": {
        "id": "_GwnmNvqwHjQ",
        "outputId": "73ca84e8-62e0-453e-dadc-55fc3a5f3b5d",
        "colab": {
          "base_uri": "https://localhost:8080/",
          "height": 415
        }
      },
      "execution_count": 12,
      "outputs": [
        {
          "output_type": "display_data",
          "data": {
            "text/plain": [
              "<Figure size 640x480 with 1 Axes>"
            ],
            "image/png": "[encoded data removed]"
          },
          "metadata": {}
        }
      ]
    },
    {
      "cell_type": "markdown",
      "source": [
        "#### Choose the second, third, fourth smallest eigenvalue and the corresponding eigenvectors"
      ],
      "metadata": {
        "id": "b9onpjoa2-Xv"
      }
    },
    {
      "cell_type": "markdown",
      "source": [
        "$Trace(\\psi^T L \\psi) = 1.0978$\n",
        "\n",
        "$\\psi^T D \\psi = I_3$"
      ],
      "metadata": {
        "id": "7sQRBz3-jafB"
      }
    },
    {
      "cell_type": "code",
      "source": [
        "np.round(np.trace(np.dot(np.dot(Eigenvectors.T[1:4], L), Eigenvectors.T[1:4].T)), 4)"
      ],
      "metadata": {
        "id": "LP-7IHRIhor1",
        "outputId": "caac7869-aadf-422e-c37c-977bc408cf75",
        "colab": {
          "base_uri": "https://localhost:8080/"
        }
      },
      "execution_count": 13,
      "outputs": [
        {
          "output_type": "execute_result",
          "data": {
            "text/plain": [
              "1.0978"
            ]
          },
          "metadata": {},
          "execution_count": 13
        }
      ]
    },
    {
      "cell_type": "code",
      "source": [
        "np.round(np.dot(np.dot(Eigenvectors.T[1:4], D), Eigenvectors.T[1:4].T), 4)"
      ],
      "metadata": {
        "id": "KGQbMoTGjpyt",
        "outputId": "46133943-3f90-4f64-cfc2-54daefeb4927",
        "colab": {
          "base_uri": "https://localhost:8080/"
        }
      },
      "execution_count": 14,
      "outputs": [
        {
          "output_type": "execute_result",
          "data": {
            "text/plain": [
              "array([[1., 0., 0.],\n",
              "       [0., 1., 0.],\n",
              "       [0., 0., 1.]])"
            ]
          },
          "metadata": {},
          "execution_count": 14
        }
      ]
    },
    {
      "cell_type": "code",
      "source": [
        "# Create a 3-D scatter plot\n",
        "fig = plt.figure()\n",
        "ax = fig.add_subplot(111, projection='3d')\n",
        "\n",
        "# Scatter plot the points\n",
        "ax.scatter(Eigenvectors[:, 1], Eigenvectors[:, 2], Eigenvectors[:, 3], c='b', marker='o')\n",
        "\n",
        "# Add labels for each axis\n",
        "ax.set_xlabel('X')\n",
        "ax.set_ylabel('Y')\n",
        "ax.set_zlabel('Z')\n",
        "\n",
        "# Show the plot\n",
        "plt.show()"
      ],
      "metadata": {
        "id": "JxWkXQOSj8cu",
        "outputId": "fc37f958-e9c2-4358-8576-a0717da6675a",
        "colab": {
          "base_uri": "https://localhost:8080/",
          "height": 416
        }
      },
      "execution_count": 15,
      "outputs": [
        {
          "output_type": "display_data",
          "data": {
            "text/plain": [
              "<Figure size 640x480 with 1 Axes>"
            ],
            "image/png": "[encoded data removed]"
          },
          "metadata": {}
        }
      ]
    },
    {
      "cell_type": "markdown",
      "source": [
        "(6) By Neighbor Embedding Slide p.9, please show that"
      ],
      "metadata": {
        "id": "YP0An0s1C2U9"
      }
    },
    {
      "cell_type": "code",
      "source": [
        "np.round(np.dot(np.dot(Eigenvectors[:, 0], L), Eigenvectors[:, 1]), 4)"
      ],
      "metadata": {
        "id": "wbpew10QC3_A",
        "outputId": "a939cd98-cfc0-4f03-aadb-ec72242f9b10",
        "colab": {
          "base_uri": "https://localhost:8080/"
        }
      },
      "execution_count": 21,
      "outputs": [
        {
          "output_type": "execute_result",
          "data": {
            "text/plain": [
              "0.0"
            ]
          },
          "metadata": {},
          "execution_count": 21
        }
      ]
    },
    {
      "cell_type": "code",
      "source": [
        "S = 0\n",
        "\n",
        "for i in range(10):\n",
        "    for j in range(10):\n",
        "        S += W[i][j] * (Eigenvectors[:, i] - Eigenvectors[:, j]) ** 2"
      ],
      "metadata": {
        "id": "HdRUVPARDj0K"
      },
      "execution_count": 31,
      "outputs": []
    },
    {
      "cell_type": "code",
      "source": [
        "(1/2) * S"
      ],
      "metadata": {
        "id": "aSPGPU9FE0R8",
        "outputId": "c702a218-bb01-4a62-b94a-d6d2d267719d",
        "colab": {
          "base_uri": "https://localhost:8080/"
        }
      },
      "execution_count": 32,
      "outputs": [
        {
          "output_type": "execute_result",
          "data": {
            "text/plain": [
              "array([0.50296123, 0.86048893, 1.47580546, 0.46569569, 1.19107714,\n",
              "       2.16403278, 0.93833841, 1.03521184, 0.88826611, 1.36080781])"
            ]
          },
          "metadata": {},
          "execution_count": 32
        }
      ]
    },
    {
      "cell_type": "code",
      "source": [
        "np.dot(np.dot(Eigenvectors.T, L), Eigenvectors)"
      ],
      "metadata": {
        "id": "glUCB95jE4fK"
      },
      "execution_count": null,
      "outputs": []
    },
    {
      "cell_type": "markdown",
      "source": [
        "(7) Show that if $f$ is an eigenvector of $L$ which corresponds to eigenvalue 0, then $f^T L f = 0$."
      ],
      "metadata": {
        "id": "jM6S903JFFIB"
      }
    },
    {
      "cell_type": "code",
      "source": [
        "np.round(np.dot(np.dot(Eigenvectors[:, 0], L), Eigenvectors[:, 0]), 4)"
      ],
      "metadata": {
        "id": "WgV52L77FKtE",
        "outputId": "f4c3bc19-6d26-423b-a151-84ce166488da",
        "colab": {
          "base_uri": "https://localhost:8080/"
        }
      },
      "execution_count": 35,
      "outputs": [
        {
          "output_type": "execute_result",
          "data": {
            "text/plain": [
              "0.0"
            ]
          },
          "metadata": {},
          "execution_count": 35
        }
      ]
    }
  ]
}