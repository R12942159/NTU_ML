{
  "nbformat": 4,
  "nbformat_minor": 0,
  "metadata": {
    "colab": {
      "provenance": [],
      "include_colab_link": true
    },
    "kernelspec": {
      "display_name": "Python 3",
      "name": "python3"
    },
    "language_info": {
      "codemirror_mode": {
        "name": "ipython",
        "version": 3
      },
      "file_extension": ".py",
      "mimetype": "text/x-python",
      "name": "python",
      "nbconvert_exporter": "python",
      "pygments_lexer": "ipython3",
      "version": "3.6.8"
    }
  },
  "cells": [
    {
      "cell_type": "markdown",
      "metadata": {
        "id": "view-in-github",
        "colab_type": "text"
      },
      "source": [
        "<a href=\"https://colab.research.google.com/github/R12942159/NTU_ML/blob/Hw3/Embeddingv2.ipynb\" target=\"_parent\"><img src=\"https://colab.research.google.com/assets/colab-badge.svg\" alt=\"Open In Colab\"/></a>"
      ]
    },
    {
      "cell_type": "code",
      "metadata": {
        "id": "sMsNXtVLopQ2"
      },
      "source": [
        "import os\n",
        "import glob\n",
        "import csv\n",
        "import torch\n",
        "import random\n",
        "import numpy as np\n",
        "import pandas as pd\n",
        "import torch.nn as nn\n",
        "import matplotlib.pyplot as plt\n",
        "\n",
        "from sklearn.cluster import KMeans\n",
        "from sklearn.decomposition import PCA\n",
        "from sklearn.manifold import TSNE\n",
        "\n",
        "from PIL import Image\n",
        "from tqdm.auto import tqdm\n",
        "from torch.optim import Adam\n",
        "from torchvision import transforms as tr\n",
        "from torch.utils.data import DataLoader, Dataset, random_split"
      ],
      "execution_count": 3,
      "outputs": []
    },
    {
      "cell_type": "code",
      "source": [
        "from google.colab import files\n",
        "files.upload()\n",
        "! mkdir ~/.kaggle\n",
        "! cp kaggle.json ~/.kaggle/\n",
        "! chmod 600 ~/.kaggle/kaggle.json\n",
        "!kaggle competitions download -c ml2023-fall-hw3\n",
        "!unzip 'ml2023-fall-hw3.zip'"
      ],
      "metadata": {
        "id": "P4wALECsmKsW"
      },
      "execution_count": null,
      "outputs": []
    },
    {
      "cell_type": "code",
      "source": [
        "from google.colab import drive\n",
        "drive.mount('/content/drive')"
      ],
      "metadata": {
        "colab": {
          "base_uri": "https://localhost:8080/"
        },
        "id": "mdkZ1H4LwraP",
        "outputId": "9342a3d0-651c-48ee-d8dd-37da10cef711"
      },
      "execution_count": 3,
      "outputs": [
        {
          "output_type": "stream",
          "name": "stdout",
          "text": [
            "Mounted at /content/drive\n"
          ]
        }
      ]
    },
    {
      "cell_type": "code",
      "source": [
        "device = \"cuda\" if torch.cuda.is_available() else \"cpu\"\n",
        "print(f\"Using: {device}\")"
      ],
      "metadata": {
        "id": "UFLK8ywEhguj",
        "outputId": "ef2c73b5-b65f-415b-9a19-7db84a5e3a9f",
        "colab": {
          "base_uri": "https://localhost:8080/"
        }
      },
      "execution_count": 7,
      "outputs": [
        {
          "output_type": "stream",
          "name": "stdout",
          "text": [
            "Using: cpu\n"
          ]
        }
      ]
    },
    {
      "cell_type": "markdown",
      "source": [
        "#### Build Dataset and Dataloader"
      ],
      "metadata": {
        "id": "-KVCCUsz_d3e"
      }
    },
    {
      "cell_type": "code",
      "source": [
        "# img = np.load('/content/data/trainX.npy')[999] / 255.\n",
        "\n",
        "# plt.imshow(img)\n",
        "# plt.show()"
      ],
      "metadata": {
        "id": "YsfdIQSeafTJ"
      },
      "execution_count": null,
      "outputs": []
    },
    {
      "cell_type": "code",
      "source": [
        "class Hw3_dataset(torch.utils.data.Dataset):\n",
        "    def __init__(self, data_path: str, to_tensor, transform, augmentation=True) -> None:\n",
        "        self.all_data = np.load(data_path)\n",
        "        self.to_tensor = to_tensor\n",
        "        self.transform = transform\n",
        "        self.augmentation = augmentation\n",
        "\n",
        "        hflip = tr.RandomHorizontalFlip(p=0.5)\n",
        "        vflip = tr.RandomVerticalFlip(p=0.5)\n",
        "        rotate = tr.RandomRotation(degrees=15)\n",
        "        color = tr.ColorJitter(brightness=0.2, contrast=0.2, saturation=0.2, hue=0.1)\n",
        "\n",
        "        def origine(x): return x\n",
        "        if augmentation:\n",
        "            self.augmentation = [hflip, vflip, rotate, origine]\n",
        "        else:\n",
        "            self.augmentation = [origine]\n",
        "\n",
        "    def __len__(self):\n",
        "        return len(self.all_data)\n",
        "\n",
        "    def __getitem__(self, idx):\n",
        "        # read img\n",
        "        img = self.all_data[idx] # (3, 32, 32)\n",
        "\n",
        "        # to tensor type\n",
        "        img = self.to_tensor(img)\n",
        "        img /= 255.\n",
        "\n",
        "        # transform/normalize img\n",
        "        img_aug = self.transform(img)\n",
        "\n",
        "        # augmentation img\n",
        "        augment = random.choice(self.augmentation)\n",
        "        img_aug = augment(img_aug)\n",
        "        return img_aug, img"
      ],
      "metadata": {
        "id": "rjji7KijikOU"
      },
      "execution_count": 8,
      "outputs": []
    },
    {
      "cell_type": "code",
      "source": [
        "mean=[0.485, 0.456, 0.406]\n",
        "std=[0.229, 0.224, 0.225]\n",
        "\n",
        "img_ds = Hw3_dataset(\n",
        "    '/content/data/trainX.npy',\n",
        "    to_tensor = tr.Compose([\n",
        "        tr.ToTensor(),\n",
        "    ]),\n",
        "    transform = tr.Compose([\n",
        "        tr.Normalize(mean=mean, std=std),\n",
        "    ]),\n",
        "    augmentation = True,\n",
        ")"
      ],
      "metadata": {
        "id": "U0vcD84ssHtV"
      },
      "execution_count": 9,
      "outputs": []
    },
    {
      "cell_type": "markdown",
      "source": [
        "##### Randomly divided into a training and validation dataset."
      ],
      "metadata": {
        "id": "w3Fvnf6sAX6a"
      }
    },
    {
      "cell_type": "code",
      "source": [
        "train_prob = 0.85\n",
        "\n",
        "train_size = int(len(img_ds) * train_prob)\n",
        "val_size = int(len(img_ds) - train_size)\n",
        "train_ds, val_ds = random_split(img_ds, [train_size, val_size])"
      ],
      "metadata": {
        "id": "43CrLsArvXUf"
      },
      "execution_count": 10,
      "outputs": []
    },
    {
      "cell_type": "markdown",
      "source": [
        "##### Build Dataloders"
      ],
      "metadata": {
        "id": "aA5GapINAVSc"
      }
    },
    {
      "cell_type": "code",
      "source": [
        "BATCH_SIZE = 128\n",
        "IMG_SIZE = 32\n",
        "\n",
        "train_loader = DataLoader(train_ds, BATCH_SIZE, shuffle=True, num_workers=0)\n",
        "val_loader = DataLoader(val_ds, BATCH_SIZE, shuffle=False, num_workers=0)\n",
        "test_loader = DataLoader(img_ds, BATCH_SIZE, shuffle=False)"
      ],
      "metadata": {
        "id": "syCZJQYr2uBD"
      },
      "execution_count": 11,
      "outputs": []
    },
    {
      "cell_type": "markdown",
      "source": [
        "#### Contruct Model"
      ],
      "metadata": {
        "id": "SwzOUZzRAnaV"
      }
    },
    {
      "cell_type": "code",
      "source": [
        "class ConvBlock(nn.Module):\n",
        "    def __init__(self, in_channels, out_channels, kernel_size=3, stride=1, padding='same'):\n",
        "        super(ConvBlock, self).__init__()\n",
        "        self.convblock = nn.Sequential(\n",
        "            nn.Conv2d(in_channels, out_channels, kernel_size, stride=1, padding='same'),\n",
        "            nn.BatchNorm2d(out_channels),\n",
        "            nn.ReLU(),\n",
        "\n",
        "            nn.Conv2d(out_channels, out_channels, kernel_size, stride=1, padding='same'),\n",
        "            nn.BatchNorm2d(out_channels),\n",
        "            nn.ReLU(),\n",
        "        )\n",
        "\n",
        "    def __call__(self, x):\n",
        "        return self.convblock(x)\n",
        "\n",
        "class Net(nn.Module):\n",
        "    def __init__(self, in_channels=3, init_channels=16, latent_dim=128, img_size=IMG_SIZE):\n",
        "        super(Net, self).__init__()\n",
        "        self.init_channels = init_channels\n",
        "        self.img_size = img_size\n",
        "\n",
        "        # Encoder\n",
        "        self.encoder = nn.Sequential(\n",
        "            ConvBlock(in_channels, init_channels), # (3, H, W) -> (16, H, W)\n",
        "            nn.MaxPool2d(2),\n",
        "\n",
        "            ConvBlock(init_channels, init_channels*2), # (16, H/2, W/2) -> (32, H/2, W/2)\n",
        "            nn.MaxPool2d(2),\n",
        "\n",
        "            ConvBlock(init_channels*2, init_channels*4), # (32, H/4, W/4) -> (64, H/4, W/4)\n",
        "        )\n",
        "\n",
        "        # bottleneck\n",
        "        self.fc1 = nn.Linear(init_channels*4 * (img_size//4) ** 2, latent_dim)\n",
        "        self.fc2 = nn.Linear(latent_dim, init_channels*4 * (img_size//4) ** 2)\n",
        "\n",
        "        # Decoder\n",
        "        self.decoder = nn.Sequential(\n",
        "            nn.ConvTranspose2d(init_channels*4, init_channels*2, kernel_size=2, stride=2),\n",
        "            ConvBlock(init_channels*2, init_channels*2),\n",
        "            nn.ConvTranspose2d(init_channels*2, init_channels, kernel_size=2, stride=2),\n",
        "        )\n",
        "\n",
        "        # Output\n",
        "        self.output = nn.Conv2d(init_channels, in_channels, kernel_size=1) # (64, H, W) -> (num_classes, H, W)\n",
        "\n",
        "    def __call__(self, x):\n",
        "        # Encoder\n",
        "        x = self.encoder(x)\n",
        "\n",
        "        # Bottleneck\n",
        "        bottleneck = self.fc1(x.reshape(x.shape[0], -1))\n",
        "        x = self.fc2(bottleneck).reshape(-1, self.init_channels*4, self.img_size//4, self.img_size//4)\n",
        "\n",
        "        # Decoder\n",
        "        x = self.decoder(x)\n",
        "        x = self.output(x)\n",
        "        return bottleneck, x"
      ],
      "metadata": {
        "id": "JWnmbmOWPQu_"
      },
      "execution_count": 38,
      "outputs": []
    },
    {
      "cell_type": "code",
      "source": [
        "import torchsummary\n",
        "\n",
        "model = Net().to(device)\n",
        "torchsummary.summary(model, (3, 32, 32), device=device)"
      ],
      "metadata": {
        "colab": {
          "base_uri": "https://localhost:8080/"
        },
        "id": "HeDrP7hxKw5I",
        "outputId": "7ac35a26-7262-4296-dee5-0f0ac54b5be6"
      },
      "execution_count": 39,
      "outputs": [
        {
          "output_type": "stream",
          "name": "stdout",
          "text": [
            "----------------------------------------------------------------\n",
            "        Layer (type)               Output Shape         Param #\n",
            "================================================================\n",
            "            Conv2d-1           [-1, 16, 32, 32]             448\n",
            "       BatchNorm2d-2           [-1, 16, 32, 32]              32\n",
            "              ReLU-3           [-1, 16, 32, 32]               0\n",
            "            Conv2d-4           [-1, 16, 32, 32]           2,320\n",
            "       BatchNorm2d-5           [-1, 16, 32, 32]              32\n",
            "              ReLU-6           [-1, 16, 32, 32]               0\n",
            "         MaxPool2d-7           [-1, 16, 16, 16]               0\n",
            "            Conv2d-8           [-1, 32, 16, 16]           4,640\n",
            "       BatchNorm2d-9           [-1, 32, 16, 16]              64\n",
            "             ReLU-10           [-1, 32, 16, 16]               0\n",
            "           Conv2d-11           [-1, 32, 16, 16]           9,248\n",
            "      BatchNorm2d-12           [-1, 32, 16, 16]              64\n",
            "             ReLU-13           [-1, 32, 16, 16]               0\n",
            "        MaxPool2d-14             [-1, 32, 8, 8]               0\n",
            "           Conv2d-15             [-1, 64, 8, 8]          18,496\n",
            "      BatchNorm2d-16             [-1, 64, 8, 8]             128\n",
            "             ReLU-17             [-1, 64, 8, 8]               0\n",
            "           Conv2d-18             [-1, 64, 8, 8]          36,928\n",
            "      BatchNorm2d-19             [-1, 64, 8, 8]             128\n",
            "             ReLU-20             [-1, 64, 8, 8]               0\n",
            "           Linear-21                  [-1, 128]         524,416\n",
            "           Linear-22                 [-1, 4096]         528,384\n",
            "  ConvTranspose2d-23           [-1, 32, 16, 16]           8,224\n",
            "           Conv2d-24           [-1, 32, 16, 16]           9,248\n",
            "      BatchNorm2d-25           [-1, 32, 16, 16]              64\n",
            "             ReLU-26           [-1, 32, 16, 16]               0\n",
            "           Conv2d-27           [-1, 32, 16, 16]           9,248\n",
            "      BatchNorm2d-28           [-1, 32, 16, 16]              64\n",
            "             ReLU-29           [-1, 32, 16, 16]               0\n",
            "  ConvTranspose2d-30           [-1, 16, 32, 32]           2,064\n",
            "           Conv2d-31            [-1, 3, 32, 32]              51\n",
            "================================================================\n",
            "Total params: 1,154,291\n",
            "Trainable params: 1,154,291\n",
            "Non-trainable params: 0\n",
            "----------------------------------------------------------------\n",
            "Input size (MB): 0.01\n",
            "Forward/backward pass size (MB): 1.98\n",
            "Params size (MB): 4.40\n",
            "Estimated Total Size (MB): 6.39\n",
            "----------------------------------------------------------------\n"
          ]
        }
      ]
    },
    {
      "cell_type": "markdown",
      "source": [
        "#### Define training and testing process"
      ],
      "metadata": {
        "id": "Bd8F9CApoxYz"
      }
    },
    {
      "cell_type": "code",
      "source": [
        "def train(dataloader, model, loss_fn, optimizer):\n",
        "    size = len(dataloader.dataset) # number of samples\n",
        "    num_batches = len(dataloader) # batches per epoch\n",
        "\n",
        "    model.train() # to training mode.\n",
        "    epoch_loss = 0\n",
        "    for batch_i, (img_aug, img) in enumerate(tqdm(dataloader, leave=False)):\n",
        "        img_aug, img = img_aug.to(device, dtype=torch.float), img.to(device,  dtype=torch.float) # move data to GPU\n",
        "\n",
        "        _, reconsturction = model(img_aug)\n",
        "        loss = loss_fn(reconsturction, img)\n",
        "\n",
        "        optimizer.zero_grad()\n",
        "        loss.backward()\n",
        "        optimizer.step()\n",
        "\n",
        "        # write to logs\n",
        "        epoch_loss += loss.item() # tensor -> python value\n",
        "\n",
        "    # return avg loss of epoch, acc of epoch\n",
        "    return epoch_loss/num_batches\n",
        "\n",
        "\n",
        "def validate(dataloader, model, loss_fn):\n",
        "    size = len(dataloader.dataset) # number of samples\n",
        "    num_batches = len(dataloader) # batches per epoch\n",
        "\n",
        "    model.eval() # model to test mode.\n",
        "    epoch_loss = 0\n",
        "\n",
        "    # No gradient for test data\n",
        "    with torch.no_grad():\n",
        "        for batch_i, (img_aug, img) in enumerate(dataloader):\n",
        "            img_aug, img = img_aug.to(device,  dtype=torch.float), img.to(device,  dtype=torch.float)\n",
        "\n",
        "            _, reconsturction = model(img_aug)\n",
        "            loss = loss_fn(reconsturction, img)\n",
        "\n",
        "            # write to logs\n",
        "            epoch_loss += loss.item()\n",
        "\n",
        "    return epoch_loss/num_batches"
      ],
      "metadata": {
        "id": "zSf1HNhXo1e1"
      },
      "execution_count": 20,
      "outputs": []
    },
    {
      "cell_type": "code",
      "source": [
        "EPOCHS = 100\n",
        "\n",
        "model = Net().to(device)\n",
        "loss_fn = nn.CrossEntropyLoss().to(device)\n",
        "optimizer = torch.optim.Adam(model.parameters(), lr=3e-4)\n",
        "\n",
        "logs = {\n",
        "    'train_loss': [], 'val_loss': []\n",
        "}\n",
        "\n",
        "# early stopping\n",
        "patience = 10\n",
        "counter = 0\n",
        "best_loss = np.inf\n",
        "\n",
        "for epoch in tqdm(range(EPOCHS)):\n",
        "    train_loss = train(train_loader, model, loss_fn, optimizer)\n",
        "    val_loss = validate(val_loader, model, loss_fn)\n",
        "\n",
        "    print(f'EPOCH: {(epoch+1):04d} -> train_loss: {train_loss:.4f} \\ val_loss: {val_loss:.4f}')\n",
        "\n",
        "    logs['train_loss'].append(train_loss)\n",
        "    logs['val_loss'].append(val_loss)\n",
        "\n",
        "    # if epoch % 10 == 0:\n",
        "    #     torch.save(model.state_dict(), f'DL_hw2_epoch{epoch+1}_model.pth')\n",
        "    # chcek improvement\n",
        "    if val_loss <  best_loss:\n",
        "        counter = 0\n",
        "        best_loss = val_loss\n",
        "        torch.save(model.state_dict(), f'/content/drive/MyDrive/NTU_ML/Hw3/ckpt/{epoch+1}best_model.pth')\n",
        "        print('-------------------- Model Save --------------------')\n",
        "    else:\n",
        "        counter += 1\n",
        "    if counter >= patience:\n",
        "        print('-------------------- Early Stop --------------------')\n",
        "        break"
      ],
      "metadata": {
        "id": "a5p_wNywt9JX"
      },
      "execution_count": null,
      "outputs": []
    },
    {
      "cell_type": "markdown",
      "source": [
        "#### Define Clustering Process"
      ],
      "metadata": {
        "id": "AjCgqQFfgHTM"
      }
    },
    {
      "cell_type": "code",
      "source": [
        "def clustering(model, device, loader, n_iter, reduced_method, reduced_dim, perplexity):\n",
        "    assert reduced_method in ['pca', 'tsne', None]\n",
        "\n",
        "    model.eval()\n",
        "    latent_vec = torch.tensor([]).to(device, dtype=torch.float)\n",
        "    for idx, (image_aug, image) in enumerate(loader):\n",
        "        print(\"predict %d / %d\" % (idx, len(loader)) , end='\\r')\n",
        "        image = image.to(device, dtype=torch.float)\n",
        "        latent, _ = model(image)\n",
        "        latent = nn.Linear(latent.reshape(latent.shape[0], -1), 128)\n",
        "        latent_vec = torch.cat((latent_vec, latent), dim=0)\n",
        "\n",
        "    latent_vec = latent_vec.cpu().detach().numpy()\n",
        "\n",
        "    if reduced_method == 'tsne':\n",
        "        tsne = TSNE(n_components=reduced_dim, verbose=1, method='exact', perplexity=perplexity, n_iter=n_iter)\n",
        "        latent_vec = tsne.fit_transform(latent_vec)\n",
        "    elif reduced_method == 'pca':\n",
        "        pca = PCA(n_components=reduced_dim, copy=False, whiten=True, svd_solver='full')\n",
        "        latent_vec = pca.fit_transform(latent_vec)\n",
        "\n",
        "    kmeans = KMeans(n_clusters=2, random_state=0, max_iter=n_iter).fit(latent_vec)\n",
        "    return kmeans.labels_"
      ],
      "metadata": {
        "id": "SiNqTRZdgGoL"
      },
      "execution_count": 59,
      "outputs": []
    },
    {
      "cell_type": "markdown",
      "source": [
        "#### Inference"
      ],
      "metadata": {
        "id": "adM9OzPSglkI"
      }
    },
    {
      "cell_type": "code",
      "source": [
        "def write_output(predict_result, file_name='predict.csv'):\n",
        "    with open(file_name, 'w', newline='') as csvfile:\n",
        "        writer = csv.writer(csvfile)\n",
        "        writer.writerow(['id', 'label'])\n",
        "        for i in range(len(predict_result)):\n",
        "            writer.writerow([str(i), str(predict_result[i])])"
      ],
      "metadata": {
        "id": "URNJDiR3hTLu"
      },
      "execution_count": 60,
      "outputs": []
    },
    {
      "cell_type": "code",
      "source": [
        "model.load_state_dict(torch.load('/content/drive/MyDrive/NTU_ML/Hw3/ckpt/46best_model.pth'))\n",
        "predicted = clustering(model, device, test_loader, 1000, reduced_method='tsne', reduced_dim=2, perplexity=15)\n",
        "write_output(predicted, 'pred.csv')"
      ],
      "metadata": {
        "id": "v5xqBcU5gmak"
      },
      "execution_count": null,
      "outputs": []
    }
  ]
}