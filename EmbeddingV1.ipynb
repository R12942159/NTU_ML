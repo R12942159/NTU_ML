{
  "nbformat": 4,
  "nbformat_minor": 0,
  "metadata": {
    "colab": {
      "provenance": [],
      "gpuType": "T4",
      "include_colab_link": true
    },
    "kernelspec": {
      "display_name": "Python 3",
      "name": "python3"
    },
    "language_info": {
      "codemirror_mode": {
        "name": "ipython",
        "version": 3
      },
      "file_extension": ".py",
      "mimetype": "text/x-python",
      "name": "python",
      "nbconvert_exporter": "python",
      "pygments_lexer": "ipython3",
      "version": "3.6.8"
    },
    "accelerator": "GPU"
  },
  "cells": [
    {
      "cell_type": "markdown",
      "metadata": {
        "id": "view-in-github",
        "colab_type": "text"
      },
      "source": [
        "<a href=\"https://colab.research.google.com/github/R12942159/NTU_ML/blob/Hw3/EmbeddingV1.ipynb\" target=\"_parent\"><img src=\"https://colab.research.google.com/assets/colab-badge.svg\" alt=\"Open In Colab\"/></a>"
      ]
    },
    {
      "cell_type": "code",
      "metadata": {
        "id": "sMsNXtVLopQ2"
      },
      "source": [
        "import os\n",
        "import glob\n",
        "import csv\n",
        "import torch\n",
        "import random\n",
        "import numpy as np\n",
        "import pandas as pd\n",
        "import torch.nn as nn\n",
        "import matplotlib.pyplot as plt\n",
        "\n",
        "from sklearn.manifold import TSNE\n",
        "from sklearn.cluster import KMeans\n",
        "from sklearn.decomposition import PCA\n",
        "\n",
        "from PIL import Image\n",
        "from tqdm.auto import tqdm\n",
        "from torch.optim import Adam\n",
        "from torchvision import transforms as tr\n",
        "from torch.utils.data import DataLoader, Dataset, random_split"
      ],
      "execution_count": 1,
      "outputs": []
    },
    {
      "cell_type": "code",
      "source": [
        "from google.colab import files\n",
        "files.upload()\n",
        "! mkdir ~/.kaggle\n",
        "! cp kaggle.json ~/.kaggle/\n",
        "! chmod 600 ~/.kaggle/kaggle.json\n",
        "!kaggle competitions download -c ml2023-fall-hw3\n",
        "!unzip 'ml2023-fall-hw3.zip'"
      ],
      "metadata": {
        "id": "P4wALECsmKsW",
        "outputId": "c9e19f3d-16c0-41af-a5ee-eb908c1a8266",
        "colab": {
          "base_uri": "https://localhost:8080/",
          "height": 171
        }
      },
      "execution_count": 2,
      "outputs": [
        {
          "output_type": "display_data",
          "data": {
            "text/plain": [
              "<IPython.core.display.HTML object>"
            ],
            "text/html": [
              "\n",
              "     <input type=\"file\" id=\"files-6934a5e0-d264-42c4-846b-d44e7a817ecc\" name=\"files[]\" multiple disabled\n",
              "        style=\"border:none\" />\n",
              "     <output id=\"result-6934a5e0-d264-42c4-846b-d44e7a817ecc\">\n",
              "      Upload widget is only available when the cell has been executed in the\n",
              "      current browser session. Please rerun this cell to enable.\n",
              "      </output>\n",
              "      <script>// Copyright 2017 Google LLC\n",
              "//\n",
              "// Licensed under the Apache License, Version 2.0 (the \"License\");\n",
              "// you may not use this file except in compliance with the License.\n",
              "// You may obtain a copy of the License at\n",
              "//\n",
              "//      http://www.apache.org/licenses/LICENSE-2.0\n",
              "//\n",
              "// Unless required by applicable law or agreed to in writing, software\n",
              "// distributed under the License is distributed on an \"AS IS\" BASIS,\n",
              "// WITHOUT WARRANTIES OR CONDITIONS OF ANY KIND, either express or implied.\n",
              "// See the License for the specific language governing permissions and\n",
              "// limitations under the License.\n",
              "\n",
              "/**\n",
              " * @fileoverview Helpers for google.colab Python module.\n",
              " */\n",
              "(function(scope) {\n",
              "function span(text, styleAttributes = {}) {\n",
              "  const element = document.createElement('span');\n",
              "  element.textContent = text;\n",
              "  for (const key of Object.keys(styleAttributes)) {\n",
              "    element.style[key] = styleAttributes[key];\n",
              "  }\n",
              "  return element;\n",
              "}\n",
              "\n",
              "// Max number of bytes which will be uploaded at a time.\n",
              "const MAX_PAYLOAD_SIZE = 100 * 1024;\n",
              "\n",
              "function _uploadFiles(inputId, outputId) {\n",
              "  const steps = uploadFilesStep(inputId, outputId);\n",
              "  const outputElement = document.getElementById(outputId);\n",
              "  // Cache steps on the outputElement to make it available for the next call\n",
              "  // to uploadFilesContinue from Python.\n",
              "  outputElement.steps = steps;\n",
              "\n",
              "  return _uploadFilesContinue(outputId);\n",
              "}\n",
              "\n",
              "// This is roughly an async generator (not supported in the browser yet),\n",
              "// where there are multiple asynchronous steps and the Python side is going\n",
              "// to poll for completion of each step.\n",
              "// This uses a Promise to block the python side on completion of each step,\n",
              "// then passes the result of the previous step as the input to the next step.\n",
              "function _uploadFilesContinue(outputId) {\n",
              "  const outputElement = document.getElementById(outputId);\n",
              "  const steps = outputElement.steps;\n",
              "\n",
              "  const next = steps.next(outputElement.lastPromiseValue);\n",
              "  return Promise.resolve(next.value.promise).then((value) => {\n",
              "    // Cache the last promise value to make it available to the next\n",
              "    // step of the generator.\n",
              "    outputElement.lastPromiseValue = value;\n",
              "    return next.value.response;\n",
              "  });\n",
              "}\n",
              "\n",
              "/**\n",
              " * Generator function which is called between each async step of the upload\n",
              " * process.\n",
              " * @param {string} inputId Element ID of the input file picker element.\n",
              " * @param {string} outputId Element ID of the output display.\n",
              " * @return {!Iterable<!Object>} Iterable of next steps.\n",
              " */\n",
              "function* uploadFilesStep(inputId, outputId) {\n",
              "  const inputElement = document.getElementById(inputId);\n",
              "  inputElement.disabled = false;\n",
              "\n",
              "  const outputElement = document.getElementById(outputId);\n",
              "  outputElement.innerHTML = '';\n",
              "\n",
              "  const pickedPromise = new Promise((resolve) => {\n",
              "    inputElement.addEventListener('change', (e) => {\n",
              "      resolve(e.target.files);\n",
              "    });\n",
              "  });\n",
              "\n",
              "  const cancel = document.createElement('button');\n",
              "  inputElement.parentElement.appendChild(cancel);\n",
              "  cancel.textContent = 'Cancel upload';\n",
              "  const cancelPromise = new Promise((resolve) => {\n",
              "    cancel.onclick = () => {\n",
              "      resolve(null);\n",
              "    };\n",
              "  });\n",
              "\n",
              "  // Wait for the user to pick the files.\n",
              "  const files = yield {\n",
              "    promise: Promise.race([pickedPromise, cancelPromise]),\n",
              "    response: {\n",
              "      action: 'starting',\n",
              "    }\n",
              "  };\n",
              "\n",
              "  cancel.remove();\n",
              "\n",
              "  // Disable the input element since further picks are not allowed.\n",
              "  inputElement.disabled = true;\n",
              "\n",
              "  if (!files) {\n",
              "    return {\n",
              "      response: {\n",
              "        action: 'complete',\n",
              "      }\n",
              "    };\n",
              "  }\n",
              "\n",
              "  for (const file of files) {\n",
              "    const li = document.createElement('li');\n",
              "    li.append(span(file.name, {fontWeight: 'bold'}));\n",
              "    li.append(span(\n",
              "        `(${file.type || 'n/a'}) - ${file.size} bytes, ` +\n",
              "        `last modified: ${\n",
              "            file.lastModifiedDate ? file.lastModifiedDate.toLocaleDateString() :\n",
              "                                    'n/a'} - `));\n",
              "    const percent = span('0% done');\n",
              "    li.appendChild(percent);\n",
              "\n",
              "    outputElement.appendChild(li);\n",
              "\n",
              "    const fileDataPromise = new Promise((resolve) => {\n",
              "      const reader = new FileReader();\n",
              "      reader.onload = (e) => {\n",
              "        resolve(e.target.result);\n",
              "      };\n",
              "      reader.readAsArrayBuffer(file);\n",
              "    });\n",
              "    // Wait for the data to be ready.\n",
              "    let fileData = yield {\n",
              "      promise: fileDataPromise,\n",
              "      response: {\n",
              "        action: 'continue',\n",
              "      }\n",
              "    };\n",
              "\n",
              "    // Use a chunked sending to avoid message size limits. See b/62115660.\n",
              "    let position = 0;\n",
              "    do {\n",
              "      const length = Math.min(fileData.byteLength - position, MAX_PAYLOAD_SIZE);\n",
              "      const chunk = new Uint8Array(fileData, position, length);\n",
              "      position += length;\n",
              "\n",
              "      const base64 = btoa(String.fromCharCode.apply(null, chunk));\n",
              "      yield {\n",
              "        response: {\n",
              "          action: 'append',\n",
              "          file: file.name,\n",
              "          data: base64,\n",
              "        },\n",
              "      };\n",
              "\n",
              "      let percentDone = fileData.byteLength === 0 ?\n",
              "          100 :\n",
              "          Math.round((position / fileData.byteLength) * 100);\n",
              "      percent.textContent = `${percentDone}% done`;\n",
              "\n",
              "    } while (position < fileData.byteLength);\n",
              "  }\n",
              "\n",
              "  // All done.\n",
              "  yield {\n",
              "    response: {\n",
              "      action: 'complete',\n",
              "    }\n",
              "  };\n",
              "}\n",
              "\n",
              "scope.google = scope.google || {};\n",
              "scope.google.colab = scope.google.colab || {};\n",
              "scope.google.colab._files = {\n",
              "  _uploadFiles,\n",
              "  _uploadFilesContinue,\n",
              "};\n",
              "})(self);\n",
              "</script> "
            ]
          },
          "metadata": {}
        },
        {
          "output_type": "stream",
          "name": "stdout",
          "text": [
            "Saving kaggle.json to kaggle.json\n",
            "Downloading ml2023-fall-hw3.zip to /content\n",
            " 80% 41.0M/51.2M [00:00<00:00, 73.4MB/s]\n",
            "100% 51.2M/51.2M [00:00<00:00, 75.4MB/s]\n",
            "Archive:  ml2023-fall-hw3.zip\n",
            "  inflating: data/trainX.npy         \n",
            "  inflating: data/visualization_X.npy  \n"
          ]
        }
      ]
    },
    {
      "cell_type": "code",
      "source": [
        "from google.colab import drive\n",
        "drive.mount('/content/drive')"
      ],
      "metadata": {
        "colab": {
          "base_uri": "https://localhost:8080/"
        },
        "id": "mdkZ1H4LwraP",
        "outputId": "4bf09e51-99d1-4dfa-e0a1-73750cf800cc"
      },
      "execution_count": 3,
      "outputs": [
        {
          "output_type": "stream",
          "name": "stdout",
          "text": [
            "Mounted at /content/drive\n"
          ]
        }
      ]
    },
    {
      "cell_type": "code",
      "source": [
        "device = \"cuda\" if torch.cuda.is_available() else \"cpu\"\n",
        "print(f\"Using: {device}\")"
      ],
      "metadata": {
        "id": "UFLK8ywEhguj",
        "outputId": "b011f11b-710b-47f5-9c7b-5511e64182c1",
        "colab": {
          "base_uri": "https://localhost:8080/"
        }
      },
      "execution_count": 4,
      "outputs": [
        {
          "output_type": "stream",
          "name": "stdout",
          "text": [
            "Using: cuda\n"
          ]
        }
      ]
    },
    {
      "cell_type": "markdown",
      "source": [
        "#### Build Dataset and Dataloader"
      ],
      "metadata": {
        "id": "-KVCCUsz_d3e"
      }
    },
    {
      "cell_type": "code",
      "source": [
        "img = np.load('/content/data/trainX.npy')[999] / 255.\n",
        "\n",
        "plt.imshow(img)\n",
        "plt.show()"
      ],
      "metadata": {
        "id": "YsfdIQSeafTJ",
        "colab": {
          "base_uri": "https://localhost:8080/",
          "height": 430
        },
        "outputId": "936bdf4d-6adf-4beb-a927-cc405ad2542c"
      },
      "execution_count": 5,
      "outputs": [
        {
          "output_type": "display_data",
          "data": {
            "text/plain": [
              "<Figure size 640x480 with 1 Axes>"
            ],
            "image/png": "[encoded data removed]"
          },
          "metadata": {}
        }
      ]
    },
    {
      "cell_type": "code",
      "source": [
        "class Hw3_dataset(torch.utils.data.Dataset):\n",
        "    def __init__(self, data_path: str, to_tensor, transform, augmentation=True) -> None:\n",
        "        self.all_data = np.load(data_path)\n",
        "        self.to_tensor = to_tensor\n",
        "        self.transform = transform\n",
        "        self.augmentation = augmentation\n",
        "\n",
        "        hflip = tr.RandomHorizontalFlip(p=0.5)\n",
        "        vflip = tr.RandomVerticalFlip(p=0.5)\n",
        "        rotate = tr.RandomRotation(degrees=15)\n",
        "        color = tr.ColorJitter(brightness=0.2, contrast=0.2, saturation=0.2, hue=0.1)\n",
        "\n",
        "        def origine(x): return x\n",
        "        if augmentation:\n",
        "            self.augmentation = [hflip, vflip, rotate, origine]\n",
        "        else:\n",
        "            self.augmentation = [origine]\n",
        "\n",
        "    def __len__(self):\n",
        "        return len(self.all_data)\n",
        "\n",
        "    def __getitem__(self, idx):\n",
        "        # read img\n",
        "        img = self.all_data[idx] # (3, 32, 32)\n",
        "\n",
        "        # to tensor type\n",
        "        img = self.to_tensor(img)\n",
        "        img /= 255.\n",
        "\n",
        "        # transform/normalize img\n",
        "        img_aug = self.transform(img)\n",
        "\n",
        "        # augmentation img\n",
        "        augment = random.choice(self.augmentation)\n",
        "        img_aug = augment(img_aug)\n",
        "        return img_aug, img"
      ],
      "metadata": {
        "id": "rjji7KijikOU"
      },
      "execution_count": 6,
      "outputs": []
    },
    {
      "cell_type": "code",
      "source": [
        "mean=[0.485, 0.456, 0.406]\n",
        "std=[0.229, 0.224, 0.225]\n",
        "\n",
        "img_ds = Hw3_dataset(\n",
        "    '/content/data/trainX.npy',\n",
        "    to_tensor = tr.Compose([\n",
        "        tr.ToTensor(),\n",
        "    ]),\n",
        "    transform = tr.Compose([\n",
        "        tr.Normalize(mean=mean, std=std),\n",
        "    ]),\n",
        "    augmentation = True,\n",
        ")"
      ],
      "metadata": {
        "id": "U0vcD84ssHtV"
      },
      "execution_count": 7,
      "outputs": []
    },
    {
      "cell_type": "markdown",
      "source": [
        "##### Randomly divided into a training and validation dataset."
      ],
      "metadata": {
        "id": "w3Fvnf6sAX6a"
      }
    },
    {
      "cell_type": "code",
      "source": [
        "train_prob = 0.85\n",
        "\n",
        "train_size = int(len(img_ds) * train_prob)\n",
        "val_size = int(len(img_ds) - train_size)\n",
        "train_ds, val_ds = random_split(img_ds, [train_size, val_size])"
      ],
      "metadata": {
        "id": "43CrLsArvXUf"
      },
      "execution_count": 8,
      "outputs": []
    },
    {
      "cell_type": "markdown",
      "source": [
        "##### Build Dataloders"
      ],
      "metadata": {
        "id": "aA5GapINAVSc"
      }
    },
    {
      "cell_type": "code",
      "source": [
        "BATCH_SIZE = 128\n",
        "IMG_SIZE = 32\n",
        "\n",
        "train_loader = DataLoader(train_ds, BATCH_SIZE, shuffle=True, num_workers=0)\n",
        "val_loader = DataLoader(val_ds, BATCH_SIZE, shuffle=False, num_workers=0)\n",
        "test_loader = DataLoader(img_ds, BATCH_SIZE, shuffle=False)"
      ],
      "metadata": {
        "id": "syCZJQYr2uBD"
      },
      "execution_count": 9,
      "outputs": []
    },
    {
      "cell_type": "markdown",
      "source": [
        "#### Contruct Model"
      ],
      "metadata": {
        "id": "SwzOUZzRAnaV"
      }
    },
    {
      "cell_type": "code",
      "source": [
        "class ConvBlock(nn.Module):\n",
        "    def __init__(self, in_channels, out_channels, kernel_size=3, stride=1, padding='same'):\n",
        "        super(ConvBlock, self).__init__()\n",
        "        self.convblock = nn.Sequential(\n",
        "            nn.Conv2d(in_channels, out_channels, kernel_size, stride=1, padding='same'),\n",
        "            nn.BatchNorm2d(out_channels),\n",
        "            nn.ReLU(),\n",
        "\n",
        "            nn.Conv2d(out_channels, out_channels, kernel_size, stride=1, padding='same'),\n",
        "            nn.BatchNorm2d(out_channels),\n",
        "            nn.Dropout2d(),\n",
        "            nn.ReLU(),\n",
        "        )\n",
        "\n",
        "    def __call__(self, x):\n",
        "        return self.convblock(x)\n",
        "\n",
        "class Net(nn.Module):\n",
        "    def __init__(self, in_channels=3, init_channels=16, latent_dim=128, img_size=IMG_SIZE):\n",
        "        super(Net, self).__init__()\n",
        "        self.init_channels = init_channels\n",
        "        self.img_size = img_size\n",
        "\n",
        "        # Encoder\n",
        "        self.encoder1 = ConvBlock(in_channels, init_channels) # (3, H, W) -> (16, H, W)\n",
        "        self.pooling1 = nn.MaxPool2d(2)\n",
        "        self.encoder2 = ConvBlock(init_channels, init_channels*2) # (16, H/2, W/2) -> (32, H/2, W/2)\n",
        "        self.pooling2 = nn.MaxPool2d(2)\n",
        "        self.encoder3 = ConvBlock(init_channels*2, init_channels*4) # (32, H/4, W/4) -> (64, H/4, W/4)\n",
        "\n",
        "        # bottleneck\n",
        "        self.fc1 = nn.Linear(init_channels*4 * (img_size//4) ** 2, latent_dim)\n",
        "        self.fc2 = nn.Linear(latent_dim, init_channels*4 * (img_size//4) ** 2)\n",
        "\n",
        "        # Decoder\n",
        "        self.upconv2 = nn.ConvTranspose2d(init_channels*4, init_channels*2, kernel_size=2, stride=2) # (64, H/4, W/4) -> (32, H/2, W/2)\n",
        "        self.decoder2 = ConvBlock(init_channels*4, init_channels*2)\n",
        "        self.upconv1 = nn.ConvTranspose2d(init_channels*2, init_channels, kernel_size=2, stride=2) # (32, H/2, W/2) -> (16, H, W)\n",
        "        self.decoder1 = ConvBlock(init_channels*2, init_channels)\n",
        "\n",
        "        # Output\n",
        "        self.output = nn.Conv2d(init_channels, in_channels, kernel_size=1) # (64, H, W) -> (num_classes, H, W)\n",
        "\n",
        "    def __call__(self, x):\n",
        "        # Encoder\n",
        "        encode1 = self.encoder1(x)\n",
        "        encode2 = self.encoder2(self.pooling1(encode1))\n",
        "        encode3 = self.encoder3(self.pooling2(encode2))\n",
        "\n",
        "        # Bottleneck\n",
        "        bottleneck = self.fc1(encode3.reshape(encode3.shape[0], -1))\n",
        "        x = self.fc2(bottleneck).reshape(-1, self.init_channels*4, self.img_size//4, self.img_size//4)\n",
        "\n",
        "        # Decoder\n",
        "        x = torch.cat((self.upconv2(x), encode2), dim=1) # (512, H/2, W/2)\n",
        "        x = self.decoder2(x) # (128, H/4, W/4)\n",
        "        x = torch.cat((self.upconv1(x), encode1), dim=1) # (128, H, W)\n",
        "        x = self.decoder1(x) # (64, H, W)\n",
        "        x = self.output(x)\n",
        "\n",
        "        return bottleneck, x"
      ],
      "metadata": {
        "id": "JWnmbmOWPQu_"
      },
      "execution_count": 10,
      "outputs": []
    },
    {
      "cell_type": "code",
      "source": [
        "import torchsummary\n",
        "\n",
        "model = Net().to(device)\n",
        "torchsummary.summary(model, (3, 32, 32), device=device)"
      ],
      "metadata": {
        "colab": {
          "base_uri": "https://localhost:8080/"
        },
        "id": "HeDrP7hxKw5I",
        "outputId": "623eae67-cf08-4ef8-92c8-7830091c777f"
      },
      "execution_count": 11,
      "outputs": [
        {
          "output_type": "stream",
          "name": "stdout",
          "text": [
            "----------------------------------------------------------------\n",
            "        Layer (type)               Output Shape         Param #\n",
            "================================================================\n",
            "            Conv2d-1           [-1, 16, 32, 32]             448\n",
            "       BatchNorm2d-2           [-1, 16, 32, 32]              32\n",
            "              ReLU-3           [-1, 16, 32, 32]               0\n",
            "            Conv2d-4           [-1, 16, 32, 32]           2,320\n",
            "       BatchNorm2d-5           [-1, 16, 32, 32]              32\n",
            "         Dropout2d-6           [-1, 16, 32, 32]               0\n",
            "              ReLU-7           [-1, 16, 32, 32]               0\n",
            "         MaxPool2d-8           [-1, 16, 16, 16]               0\n",
            "            Conv2d-9           [-1, 32, 16, 16]           4,640\n",
            "      BatchNorm2d-10           [-1, 32, 16, 16]              64\n",
            "             ReLU-11           [-1, 32, 16, 16]               0\n",
            "           Conv2d-12           [-1, 32, 16, 16]           9,248\n",
            "      BatchNorm2d-13           [-1, 32, 16, 16]              64\n",
            "        Dropout2d-14           [-1, 32, 16, 16]               0\n",
            "             ReLU-15           [-1, 32, 16, 16]               0\n",
            "        MaxPool2d-16             [-1, 32, 8, 8]               0\n",
            "           Conv2d-17             [-1, 64, 8, 8]          18,496\n",
            "      BatchNorm2d-18             [-1, 64, 8, 8]             128\n",
            "             ReLU-19             [-1, 64, 8, 8]               0\n",
            "           Conv2d-20             [-1, 64, 8, 8]          36,928\n",
            "      BatchNorm2d-21             [-1, 64, 8, 8]             128\n",
            "        Dropout2d-22             [-1, 64, 8, 8]               0\n",
            "             ReLU-23             [-1, 64, 8, 8]               0\n",
            "           Linear-24                  [-1, 128]         524,416\n",
            "           Linear-25                 [-1, 4096]         528,384\n",
            "  ConvTranspose2d-26           [-1, 32, 16, 16]           8,224\n",
            "           Conv2d-27           [-1, 32, 16, 16]          18,464\n",
            "      BatchNorm2d-28           [-1, 32, 16, 16]              64\n",
            "             ReLU-29           [-1, 32, 16, 16]               0\n",
            "           Conv2d-30           [-1, 32, 16, 16]           9,248\n",
            "      BatchNorm2d-31           [-1, 32, 16, 16]              64\n",
            "        Dropout2d-32           [-1, 32, 16, 16]               0\n",
            "             ReLU-33           [-1, 32, 16, 16]               0\n",
            "  ConvTranspose2d-34           [-1, 16, 32, 32]           2,064\n",
            "           Conv2d-35           [-1, 16, 32, 32]           4,624\n",
            "      BatchNorm2d-36           [-1, 16, 32, 32]              32\n",
            "             ReLU-37           [-1, 16, 32, 32]               0\n",
            "           Conv2d-38           [-1, 16, 32, 32]           2,320\n",
            "      BatchNorm2d-39           [-1, 16, 32, 32]              32\n",
            "        Dropout2d-40           [-1, 16, 32, 32]               0\n",
            "             ReLU-41           [-1, 16, 32, 32]               0\n",
            "           Conv2d-42            [-1, 3, 32, 32]              51\n",
            "================================================================\n",
            "Total params: 1,170,515\n",
            "Trainable params: 1,170,515\n",
            "Non-trainable params: 0\n",
            "----------------------------------------------------------------\n",
            "Input size (MB): 0.01\n",
            "Forward/backward pass size (MB): 3.13\n",
            "Params size (MB): 4.47\n",
            "Estimated Total Size (MB): 7.61\n",
            "----------------------------------------------------------------\n"
          ]
        }
      ]
    },
    {
      "cell_type": "markdown",
      "source": [
        "#### Define training and testing process"
      ],
      "metadata": {
        "id": "Bd8F9CApoxYz"
      }
    },
    {
      "cell_type": "code",
      "source": [
        "def train(dataloader, model, loss_fn, optimizer):\n",
        "    size = len(dataloader.dataset) # number of samples\n",
        "    num_batches = len(dataloader) # batches per epoch\n",
        "\n",
        "    model.train() # to training mode.\n",
        "    epoch_loss = 0\n",
        "    for batch_i, (img_aug, img) in enumerate(tqdm(dataloader, leave=False)):\n",
        "        img_aug, img = img_aug.to(device, dtype=torch.float), img.to(device,  dtype=torch.float) # move data to GPU\n",
        "\n",
        "        _, reconsturction = model(img_aug)\n",
        "        loss = loss_fn(reconsturction, img)\n",
        "\n",
        "        optimizer.zero_grad()\n",
        "        loss.backward()\n",
        "        optimizer.step()\n",
        "\n",
        "        # write to logs\n",
        "        epoch_loss += loss.item() # tensor -> python value\n",
        "\n",
        "    # return avg loss of epoch, acc of epoch\n",
        "    return epoch_loss/num_batches\n",
        "\n",
        "\n",
        "def validate(dataloader, model, loss_fn):\n",
        "    size = len(dataloader.dataset) # number of samples\n",
        "    num_batches = len(dataloader) # batches per epoch\n",
        "\n",
        "    model.eval() # model to test mode.\n",
        "    epoch_loss = 0\n",
        "\n",
        "    # No gradient for test data\n",
        "    with torch.no_grad():\n",
        "        for batch_i, (img_aug, img) in enumerate(dataloader):\n",
        "            img_aug, img = img_aug.to(device,  dtype=torch.float), img.to(device,  dtype=torch.float)\n",
        "\n",
        "            _, reconsturction = model(img_aug)\n",
        "            loss = loss_fn(reconsturction, img)\n",
        "\n",
        "            # write to logs\n",
        "            epoch_loss += loss.item()\n",
        "\n",
        "    return epoch_loss/num_batches"
      ],
      "metadata": {
        "id": "zSf1HNhXo1e1"
      },
      "execution_count": 12,
      "outputs": []
    },
    {
      "cell_type": "code",
      "source": [
        "EPOCHS = 200\n",
        "\n",
        "model = Net().to(device)\n",
        "loss_fn = nn.CrossEntropyLoss().to(device)\n",
        "optimizer = torch.optim.Adam(model.parameters(), lr=1e-3)\n",
        "\n",
        "logs = {\n",
        "    'train_loss': [], 'val_loss': []\n",
        "}\n",
        "\n",
        "# early stopping\n",
        "patience = 30\n",
        "counter = 0\n",
        "best_loss = np.inf\n",
        "\n",
        "for epoch in tqdm(range(EPOCHS)):\n",
        "    train_loss = train(train_loader, model, loss_fn, optimizer)\n",
        "    val_loss = validate(val_loader, model, loss_fn)\n",
        "\n",
        "    print(f'EPOCH: {(epoch+1):04d} -> train_loss: {train_loss:.4f} \\ val_loss: {val_loss:.4f}')\n",
        "\n",
        "    logs['train_loss'].append(train_loss)\n",
        "    logs['val_loss'].append(val_loss)\n",
        "\n",
        "    # if epoch % 10 == 0:\n",
        "    #     torch.save(model.state_dict(), f'DL_hw2_epoch{epoch+1}_model.pth')\n",
        "    # chcek improvement\n",
        "    if val_loss <  best_loss:\n",
        "        counter = 0\n",
        "        best_loss = val_loss\n",
        "        torch.save(model.state_dict(), 'best_model.pth')\n",
        "        torch.save(model.state_dict(), '/content/drive/MyDrive/NTU_ML/Hw3/ckpt/best_model.pth')\n",
        "        print('-------------------- Model Save --------------------')\n",
        "    else:\n",
        "        counter += 1\n",
        "    if counter >= patience:\n",
        "        print('-------------------- Early Stop --------------------')\n",
        "        break"
      ],
      "metadata": {
        "id": "a5p_wNywt9JX"
      },
      "execution_count": null,
      "outputs": []
    },
    {
      "cell_type": "code",
      "source": [
        "def clustering(model, device, loader, n_iter, reduced_method, reduced_dim, perplexity):\n",
        "    assert reduced_method in ['pca', 'tsne', None]\n",
        "\n",
        "    model.eval()\n",
        "    latent_vec = torch.tensor([]).to(device, dtype=torch.float)\n",
        "    for idx, (image_aug, image) in enumerate(loader):\n",
        "        print(\"predict %d / %d\" % (idx, len(loader)) , end='\\r')\n",
        "        image = image.to(device, dtype=torch.float)\n",
        "        latent, r = model(image)\n",
        "        latent_vec = torch.cat((latent_vec, latent), dim=0)\n",
        "\n",
        "    latent_vec = latent_vec.cpu().detach().numpy()\n",
        "\n",
        "    if reduced_method == 'tsne':\n",
        "        tsne = TSNE(n_components=reduced_dim, verbose=1, method='exact', perplexity=perplexity, n_iter=n_iter)\n",
        "        latent_vec = tsne.fit_transform(latent_vec)\n",
        "    elif reduced_method == 'pca':\n",
        "        pca = PCA(n_components=reduced_dim, copy=False, whiten=True, svd_solver='full')\n",
        "        latent_vec = pca.fit_transform(latent_vec)\n",
        "\n",
        "    kmeans = KMeans(n_clusters=2, random_state=0, max_iter=n_iter).fit(latent_vec)\n",
        "    return kmeans.labels_"
      ],
      "metadata": {
        "id": "FPijW5xstnQd"
      },
      "execution_count": null,
      "outputs": []
    },
    {
      "cell_type": "code",
      "source": [
        "def write_output(predict_result, file_name='predict.csv'):\n",
        "    with open(file_name, 'w', newline='') as csvfile:\n",
        "        writer = csv.writer(csvfile)\n",
        "        writer.writerow(['id', 'label'])\n",
        "        for i in range(len(predict_result)):\n",
        "            writer.writerow([str(i), str(predict_result[i])])"
      ],
      "metadata": {
        "id": "V6Uc0lagtz4A"
      },
      "execution_count": null,
      "outputs": []
    },
    {
      "cell_type": "code",
      "source": [
        "model.load_state_dict(torch.load('best_model.pth'))\n",
        "predicted = clustering(model, device, test_loader, 1500, reduced_method='tsne', reduced_dim=2, perplexity=15)\n",
        "write_output(predicted, 'pred.csv')"
      ],
      "metadata": {
        "colab": {
          "base_uri": "https://localhost:8080/"
        },
        "id": "rDht2dQGt1VI",
        "outputId": "f8402260-e7d1-4a59-ccfa-392b75bab8be"
      },
      "execution_count": null,
      "outputs": [
        {
          "output_type": "stream",
          "name": "stdout",
          "text": [
            "[t-SNE] Computing pairwise distances...\n",
            "[t-SNE] Computed conditional probabilities for sample 1000 / 9000\n",
            "[t-SNE] Computed conditional probabilities for sample 2000 / 9000\n",
            "[t-SNE] Computed conditional probabilities for sample 3000 / 9000\n",
            "[t-SNE] Computed conditional probabilities for sample 4000 / 9000\n",
            "[t-SNE] Computed conditional probabilities for sample 5000 / 9000\n",
            "[t-SNE] Computed conditional probabilities for sample 6000 / 9000\n",
            "[t-SNE] Computed conditional probabilities for sample 7000 / 9000\n",
            "[t-SNE] Computed conditional probabilities for sample 8000 / 9000\n",
            "[t-SNE] Computed conditional probabilities for sample 9000 / 9000\n",
            "[t-SNE] Mean sigma: 2.065020\n",
            "[t-SNE] KL divergence after 250 iterations with early exaggeration: 95.070753\n"
          ]
        }
      ]
    }
  ]
}