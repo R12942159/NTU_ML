{
  "nbformat": 4,
  "nbformat_minor": 0,
  "metadata": {
    "colab": {
      "provenance": [],
      "authorship_tag": "ABX9TyOE7hnFy7ypkoj/IaPA9uky",
      "include_colab_link": true
    },
    "kernelspec": {
      "name": "python3",
      "display_name": "Python 3"
    },
    "language_info": {
      "name": "python"
    }
  },
  "cells": [
    {
      "cell_type": "markdown",
      "metadata": {
        "id": "view-in-github",
        "colab_type": "text"
      },
      "source": [
        "<a href=\"https://colab.research.google.com/github/R12942159/NTU_ML/blob/Hw3/Loss%20function%20of%20Decision%20tree.ipynb\" target=\"_parent\"><img src=\"https://colab.research.google.com/assets/colab-badge.svg\" alt=\"Open In Colab\"/></a>"
      ]
    },
    {
      "cell_type": "code",
      "execution_count": null,
      "metadata": {
        "id": "7Uesd3cE7qVj"
      },
      "outputs": [],
      "source": [
        "import os\n",
        "import numpy as np\n",
        "import matplotlib.pyplot as plt\n",
        "from numpy import random\n",
        "from tqdm.notebook import tqdm\n",
        "from random import choices\n",
        "import math\n",
        "\n",
        "def gini(p_left, p_right, p1_left, p1_right):\n",
        "        gini_index = math.exp(-((p_left) * (1 - (p1_left ** 2 + (1 - p1_left) ** 2)) +\n",
        "                      (p_right) * (1 - ((p1_right) ** 2 + (1 - p1_right) ** 2))))\n",
        "        return gini_index\n",
        "\n",
        "def Shannon(p_left, p_right, p1_left, p1_right):\n",
        "        shannon = math.exp((p_left) * (1 * (p1_left * math.log2(p1_left) + (1 - p1_left) * math.log2(1 - p1_left))) +\n",
        "                   (p_right) * (1 * (p1_right * math.log2(p1_right) + (1 - p1_right) * math.log2(1 - p1_right))))\n",
        "        return shannon\n",
        "\n",
        "\n",
        "p_left2 = 0.8\n",
        "p_right2 = 0.2\n",
        "p1_left2 = 0.000000000001\n",
        "p1_right2 = 0.9\n",
        "\n",
        "p_left3 = 0.9\n",
        "p_right3 = 0.1\n",
        "p1_left3 = 0.01\n",
        "p1_right3 = 0.99999999999\n",
        "\n",
        "print('gini(2): ', np.round(gini(p_left2, p_right2, p1_left2, p1_right2), 4))\n",
        "print('gini(3): ', np.round(gini(p_left3, p_right3, p1_left3, p1_right3), 4))\n",
        "print('Shannon(2): ', np.round( Shannon(p_left2, p_right2, p1_left2, p1_right2), 4))\n",
        "print('Shannon(3): ', np.round( Shannon(p_left3, p_right3, p1_left3, p1_right3), 4))"
      ]
    }
  ]
}